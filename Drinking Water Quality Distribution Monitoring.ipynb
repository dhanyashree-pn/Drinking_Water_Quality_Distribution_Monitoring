{
 "cells": [
  {
   "cell_type": "markdown",
   "id": "f6759315",
   "metadata": {},
   "source": [
    "## Importing dependencies"
   ]
  },
  {
   "cell_type": "code",
   "execution_count": 1,
   "id": "d072de92",
   "metadata": {},
   "outputs": [],
   "source": [
    "import pandas as pd\n",
    "import numpy as np\n",
    "import matplotlib.pyplot as plt\n",
    "import seaborn as sns"
   ]
  },
  {
   "cell_type": "markdown",
   "id": "d42bf4de",
   "metadata": {},
   "source": [
    "## Loading the Dataset"
   ]
  },
  {
   "cell_type": "code",
   "execution_count": 2,
   "id": "4bd5ef0d",
   "metadata": {},
   "outputs": [
    {
     "name": "stderr",
     "output_type": "stream",
     "text": [
      "C:\\Users\\DHANYASHREE\\AppData\\Local\\Temp\\ipykernel_15240\\765991014.py:1: DtypeWarning: Columns (7) have mixed types. Specify dtype option on import or set low_memory=False.\n",
      "  dataset=pd.read_csv(\"C:\\subsea\\Internships\\Drinking_Water_Quality_Distribution_Monitoring_Data.csv\")\n"
     ]
    }
   ],
   "source": [
    "dataset=pd.read_csv(\"C:\\subsea\\Internships\\Drinking_Water_Quality_Distribution_Monitoring_Data.csv\")"
   ]
  },
  {
   "cell_type": "code",
   "execution_count": 3,
   "id": "85373cd2",
   "metadata": {},
   "outputs": [
    {
     "data": {
      "text/html": [
       "<div>\n",
       "<style scoped>\n",
       "    .dataframe tbody tr th:only-of-type {\n",
       "        vertical-align: middle;\n",
       "    }\n",
       "\n",
       "    .dataframe tbody tr th {\n",
       "        vertical-align: top;\n",
       "    }\n",
       "\n",
       "    .dataframe thead th {\n",
       "        text-align: right;\n",
       "    }\n",
       "</style>\n",
       "<table border=\"1\" class=\"dataframe\">\n",
       "  <thead>\n",
       "    <tr style=\"text-align: right;\">\n",
       "      <th></th>\n",
       "      <th>Sample Number</th>\n",
       "      <th>Sample Date</th>\n",
       "      <th>Sample Time</th>\n",
       "      <th>Sample Site</th>\n",
       "      <th>Sample class</th>\n",
       "      <th>Residual Free Chlorine (mg/L)</th>\n",
       "      <th>Turbidity (NTU)</th>\n",
       "      <th>Fluoride (mg/L)</th>\n",
       "      <th>Coliform (Quanti-Tray) (MPN /100mL)</th>\n",
       "      <th>E.coli(Quanti-Tray) (MPN/100mL)</th>\n",
       "    </tr>\n",
       "  </thead>\n",
       "  <tbody>\n",
       "    <tr>\n",
       "      <th>0</th>\n",
       "      <td>202120243</td>\n",
       "      <td>07/01/2021</td>\n",
       "      <td>10:31</td>\n",
       "      <td>23650</td>\n",
       "      <td>Compliance</td>\n",
       "      <td>0.22</td>\n",
       "      <td>0.84</td>\n",
       "      <td>NaN</td>\n",
       "      <td>&lt;1</td>\n",
       "      <td>&lt;1</td>\n",
       "    </tr>\n",
       "    <tr>\n",
       "      <th>1</th>\n",
       "      <td>202120244</td>\n",
       "      <td>07/01/2021</td>\n",
       "      <td>09:54</td>\n",
       "      <td>29550</td>\n",
       "      <td>Compliance</td>\n",
       "      <td>0.69</td>\n",
       "      <td>0.81</td>\n",
       "      <td>NaN</td>\n",
       "      <td>&lt;1</td>\n",
       "      <td>&lt;1</td>\n",
       "    </tr>\n",
       "    <tr>\n",
       "      <th>2</th>\n",
       "      <td>202120245</td>\n",
       "      <td>07/01/2021</td>\n",
       "      <td>07:52</td>\n",
       "      <td>50200</td>\n",
       "      <td>Operational</td>\n",
       "      <td>0.55</td>\n",
       "      <td>0.77</td>\n",
       "      <td>NaN</td>\n",
       "      <td>&lt;1</td>\n",
       "      <td>&lt;1</td>\n",
       "    </tr>\n",
       "    <tr>\n",
       "      <th>3</th>\n",
       "      <td>202120246</td>\n",
       "      <td>07/01/2021</td>\n",
       "      <td>08:12</td>\n",
       "      <td>50250</td>\n",
       "      <td>Compliance</td>\n",
       "      <td>0.87</td>\n",
       "      <td>0.81</td>\n",
       "      <td>NaN</td>\n",
       "      <td>&lt;1</td>\n",
       "      <td>&lt;1</td>\n",
       "    </tr>\n",
       "    <tr>\n",
       "      <th>4</th>\n",
       "      <td>202120247</td>\n",
       "      <td>07/01/2021</td>\n",
       "      <td>08:31</td>\n",
       "      <td>50300</td>\n",
       "      <td>Operational</td>\n",
       "      <td>0.80</td>\n",
       "      <td>0.84</td>\n",
       "      <td>NaN</td>\n",
       "      <td>&lt;1</td>\n",
       "      <td>&lt;1</td>\n",
       "    </tr>\n",
       "  </tbody>\n",
       "</table>\n",
       "</div>"
      ],
      "text/plain": [
       "   Sample Number Sample Date Sample Time Sample Site Sample class  \\\n",
       "0      202120243  07/01/2021       10:31       23650   Compliance   \n",
       "1      202120244  07/01/2021       09:54       29550   Compliance   \n",
       "2      202120245  07/01/2021       07:52       50200  Operational   \n",
       "3      202120246  07/01/2021       08:12       50250   Compliance   \n",
       "4      202120247  07/01/2021       08:31       50300  Operational   \n",
       "\n",
       "   Residual Free Chlorine (mg/L) Turbidity (NTU) Fluoride (mg/L)  \\\n",
       "0                           0.22            0.84             NaN   \n",
       "1                           0.69            0.81             NaN   \n",
       "2                           0.55            0.77             NaN   \n",
       "3                           0.87            0.81             NaN   \n",
       "4                           0.80            0.84             NaN   \n",
       "\n",
       "  Coliform (Quanti-Tray) (MPN /100mL) E.coli(Quanti-Tray) (MPN/100mL)  \n",
       "0                                  <1                              <1  \n",
       "1                                  <1                              <1  \n",
       "2                                  <1                              <1  \n",
       "3                                  <1                              <1  \n",
       "4                                  <1                              <1  "
      ]
     },
     "execution_count": 3,
     "metadata": {},
     "output_type": "execute_result"
    }
   ],
   "source": [
    "dataset.head()"
   ]
  },
  {
   "cell_type": "code",
   "execution_count": 4,
   "id": "9da7f948",
   "metadata": {},
   "outputs": [
    {
     "data": {
      "text/html": [
       "<div>\n",
       "<style scoped>\n",
       "    .dataframe tbody tr th:only-of-type {\n",
       "        vertical-align: middle;\n",
       "    }\n",
       "\n",
       "    .dataframe tbody tr th {\n",
       "        vertical-align: top;\n",
       "    }\n",
       "\n",
       "    .dataframe thead th {\n",
       "        text-align: right;\n",
       "    }\n",
       "</style>\n",
       "<table border=\"1\" class=\"dataframe\">\n",
       "  <thead>\n",
       "    <tr style=\"text-align: right;\">\n",
       "      <th></th>\n",
       "      <th>Sample Number</th>\n",
       "      <th>Sample Date</th>\n",
       "      <th>Sample Time</th>\n",
       "      <th>Sample Site</th>\n",
       "      <th>Sample class</th>\n",
       "      <th>Residual Free Chlorine (mg/L)</th>\n",
       "      <th>Turbidity (NTU)</th>\n",
       "      <th>Fluoride (mg/L)</th>\n",
       "      <th>Coliform (Quanti-Tray) (MPN /100mL)</th>\n",
       "      <th>E.coli(Quanti-Tray) (MPN/100mL)</th>\n",
       "    </tr>\n",
       "  </thead>\n",
       "  <tbody>\n",
       "    <tr>\n",
       "      <th>126254</th>\n",
       "      <td>202307968</td>\n",
       "      <td>03/31/2023</td>\n",
       "      <td>09:47</td>\n",
       "      <td>1S07</td>\n",
       "      <td>Operational</td>\n",
       "      <td>0.74</td>\n",
       "      <td>0.63</td>\n",
       "      <td>NaN</td>\n",
       "      <td>&lt;1</td>\n",
       "      <td>&lt;1</td>\n",
       "    </tr>\n",
       "    <tr>\n",
       "      <th>126255</th>\n",
       "      <td>202307969</td>\n",
       "      <td>03/31/2023</td>\n",
       "      <td>12:12</td>\n",
       "      <td>32750</td>\n",
       "      <td>Compliance</td>\n",
       "      <td>0.41</td>\n",
       "      <td>0.65</td>\n",
       "      <td>NaN</td>\n",
       "      <td>&lt;1</td>\n",
       "      <td>&lt;1</td>\n",
       "    </tr>\n",
       "    <tr>\n",
       "      <th>126256</th>\n",
       "      <td>202307970</td>\n",
       "      <td>03/31/2023</td>\n",
       "      <td>08:35</td>\n",
       "      <td>33150</td>\n",
       "      <td>Compliance</td>\n",
       "      <td>0.43</td>\n",
       "      <td>0.3</td>\n",
       "      <td>NaN</td>\n",
       "      <td>&lt;1</td>\n",
       "      <td>&lt;1</td>\n",
       "    </tr>\n",
       "    <tr>\n",
       "      <th>126257</th>\n",
       "      <td>202307971</td>\n",
       "      <td>03/31/2023</td>\n",
       "      <td>11:38</td>\n",
       "      <td>33850</td>\n",
       "      <td>Compliance</td>\n",
       "      <td>0.44</td>\n",
       "      <td>0.68</td>\n",
       "      <td>NaN</td>\n",
       "      <td>&lt;1</td>\n",
       "      <td>&lt;1</td>\n",
       "    </tr>\n",
       "    <tr>\n",
       "      <th>126258</th>\n",
       "      <td>202307972</td>\n",
       "      <td>03/31/2023</td>\n",
       "      <td>10:21</td>\n",
       "      <td>3SC26</td>\n",
       "      <td>Operational</td>\n",
       "      <td>0.60</td>\n",
       "      <td>0.1</td>\n",
       "      <td>NaN</td>\n",
       "      <td>&lt;1</td>\n",
       "      <td>&lt;1</td>\n",
       "    </tr>\n",
       "  </tbody>\n",
       "</table>\n",
       "</div>"
      ],
      "text/plain": [
       "        Sample Number Sample Date Sample Time Sample Site Sample class  \\\n",
       "126254      202307968  03/31/2023       09:47        1S07  Operational   \n",
       "126255      202307969  03/31/2023       12:12       32750   Compliance   \n",
       "126256      202307970  03/31/2023       08:35       33150   Compliance   \n",
       "126257      202307971  03/31/2023       11:38       33850   Compliance   \n",
       "126258      202307972  03/31/2023       10:21       3SC26  Operational   \n",
       "\n",
       "        Residual Free Chlorine (mg/L) Turbidity (NTU) Fluoride (mg/L)  \\\n",
       "126254                           0.74            0.63             NaN   \n",
       "126255                           0.41            0.65             NaN   \n",
       "126256                           0.43             0.3             NaN   \n",
       "126257                           0.44            0.68             NaN   \n",
       "126258                           0.60             0.1             NaN   \n",
       "\n",
       "       Coliform (Quanti-Tray) (MPN /100mL) E.coli(Quanti-Tray) (MPN/100mL)  \n",
       "126254                                  <1                              <1  \n",
       "126255                                  <1                              <1  \n",
       "126256                                  <1                              <1  \n",
       "126257                                  <1                              <1  \n",
       "126258                                  <1                              <1  "
      ]
     },
     "execution_count": 4,
     "metadata": {},
     "output_type": "execute_result"
    }
   ],
   "source": [
    "dataset.tail()"
   ]
  },
  {
   "cell_type": "code",
   "execution_count": 5,
   "id": "401cb879",
   "metadata": {
    "scrolled": true
   },
   "outputs": [
    {
     "data": {
      "text/plain": [
       "Index(['Sample Number', 'Sample Date', 'Sample Time', 'Sample Site',\n",
       "       'Sample class', 'Residual Free Chlorine (mg/L)', 'Turbidity (NTU)',\n",
       "       'Fluoride (mg/L)', 'Coliform (Quanti-Tray) (MPN /100mL)',\n",
       "       'E.coli(Quanti-Tray) (MPN/100mL)'],\n",
       "      dtype='object')"
      ]
     },
     "execution_count": 5,
     "metadata": {},
     "output_type": "execute_result"
    }
   ],
   "source": [
    "dataset.columns"
   ]
  },
  {
   "cell_type": "code",
   "execution_count": 6,
   "id": "5034a6aa",
   "metadata": {},
   "outputs": [
    {
     "name": "stdout",
     "output_type": "stream",
     "text": [
      "<class 'pandas.core.frame.DataFrame'>\n",
      "RangeIndex: 126259 entries, 0 to 126258\n",
      "Data columns (total 10 columns):\n",
      " #   Column                               Non-Null Count   Dtype  \n",
      "---  ------                               --------------   -----  \n",
      " 0   Sample Number                        126259 non-null  int64  \n",
      " 1   Sample Date                          126259 non-null  object \n",
      " 2   Sample Time                          126259 non-null  object \n",
      " 3   Sample Site                          126257 non-null  object \n",
      " 4   Sample class                         126259 non-null  object \n",
      " 5   Residual Free Chlorine (mg/L)        126257 non-null  float64\n",
      " 6   Turbidity (NTU)                      126258 non-null  object \n",
      " 7   Fluoride (mg/L)                      16613 non-null   object \n",
      " 8   Coliform (Quanti-Tray) (MPN /100mL)  126198 non-null  object \n",
      " 9   E.coli(Quanti-Tray) (MPN/100mL)      126198 non-null  object \n",
      "dtypes: float64(1), int64(1), object(8)\n",
      "memory usage: 9.6+ MB\n"
     ]
    }
   ],
   "source": [
    "dataset.info()"
   ]
  },
  {
   "cell_type": "code",
   "execution_count": 7,
   "id": "204f710f",
   "metadata": {},
   "outputs": [
    {
     "data": {
      "text/plain": [
       "(126259, 10)"
      ]
     },
     "execution_count": 7,
     "metadata": {},
     "output_type": "execute_result"
    }
   ],
   "source": [
    "dataset.shape"
   ]
  },
  {
   "cell_type": "markdown",
   "id": "11b56144",
   "metadata": {},
   "source": [
    "### Checking the Null values"
   ]
  },
  {
   "cell_type": "code",
   "execution_count": 8,
   "id": "dd3ae72b",
   "metadata": {},
   "outputs": [
    {
     "data": {
      "text/plain": [
       "Sample Number                               0\n",
       "Sample Date                                 0\n",
       "Sample Time                                 0\n",
       "Sample Site                                 2\n",
       "Sample class                                0\n",
       "Residual Free Chlorine (mg/L)               2\n",
       "Turbidity (NTU)                             1\n",
       "Fluoride (mg/L)                        109646\n",
       "Coliform (Quanti-Tray) (MPN /100mL)        61\n",
       "E.coli(Quanti-Tray) (MPN/100mL)            61\n",
       "dtype: int64"
      ]
     },
     "execution_count": 8,
     "metadata": {},
     "output_type": "execute_result"
    }
   ],
   "source": [
    "dataset.isnull().sum()"
   ]
  },
  {
   "cell_type": "markdown",
   "id": "dd727f65",
   "metadata": {},
   "source": [
    "### Checking the duplicate values"
   ]
  },
  {
   "cell_type": "code",
   "execution_count": 9,
   "id": "d8361c16",
   "metadata": {},
   "outputs": [
    {
     "data": {
      "text/html": [
       "<div>\n",
       "<style scoped>\n",
       "    .dataframe tbody tr th:only-of-type {\n",
       "        vertical-align: middle;\n",
       "    }\n",
       "\n",
       "    .dataframe tbody tr th {\n",
       "        vertical-align: top;\n",
       "    }\n",
       "\n",
       "    .dataframe thead th {\n",
       "        text-align: right;\n",
       "    }\n",
       "</style>\n",
       "<table border=\"1\" class=\"dataframe\">\n",
       "  <thead>\n",
       "    <tr style=\"text-align: right;\">\n",
       "      <th></th>\n",
       "      <th>Sample Number</th>\n",
       "      <th>Sample Date</th>\n",
       "      <th>Sample Time</th>\n",
       "      <th>Sample Site</th>\n",
       "      <th>Sample class</th>\n",
       "      <th>Residual Free Chlorine (mg/L)</th>\n",
       "      <th>Turbidity (NTU)</th>\n",
       "      <th>Fluoride (mg/L)</th>\n",
       "      <th>Coliform (Quanti-Tray) (MPN /100mL)</th>\n",
       "      <th>E.coli(Quanti-Tray) (MPN/100mL)</th>\n",
       "    </tr>\n",
       "  </thead>\n",
       "  <tbody>\n",
       "    <tr>\n",
       "      <th>0</th>\n",
       "      <td>202120243</td>\n",
       "      <td>07/01/2021</td>\n",
       "      <td>10:31</td>\n",
       "      <td>23650</td>\n",
       "      <td>Compliance</td>\n",
       "      <td>0.22</td>\n",
       "      <td>0.84</td>\n",
       "      <td>NaN</td>\n",
       "      <td>&lt;1</td>\n",
       "      <td>&lt;1</td>\n",
       "    </tr>\n",
       "    <tr>\n",
       "      <th>1</th>\n",
       "      <td>202120244</td>\n",
       "      <td>07/01/2021</td>\n",
       "      <td>09:54</td>\n",
       "      <td>29550</td>\n",
       "      <td>Compliance</td>\n",
       "      <td>0.69</td>\n",
       "      <td>0.81</td>\n",
       "      <td>NaN</td>\n",
       "      <td>&lt;1</td>\n",
       "      <td>&lt;1</td>\n",
       "    </tr>\n",
       "    <tr>\n",
       "      <th>2</th>\n",
       "      <td>202120245</td>\n",
       "      <td>07/01/2021</td>\n",
       "      <td>07:52</td>\n",
       "      <td>50200</td>\n",
       "      <td>Operational</td>\n",
       "      <td>0.55</td>\n",
       "      <td>0.77</td>\n",
       "      <td>NaN</td>\n",
       "      <td>&lt;1</td>\n",
       "      <td>&lt;1</td>\n",
       "    </tr>\n",
       "    <tr>\n",
       "      <th>3</th>\n",
       "      <td>202120246</td>\n",
       "      <td>07/01/2021</td>\n",
       "      <td>08:12</td>\n",
       "      <td>50250</td>\n",
       "      <td>Compliance</td>\n",
       "      <td>0.87</td>\n",
       "      <td>0.81</td>\n",
       "      <td>NaN</td>\n",
       "      <td>&lt;1</td>\n",
       "      <td>&lt;1</td>\n",
       "    </tr>\n",
       "    <tr>\n",
       "      <th>4</th>\n",
       "      <td>202120247</td>\n",
       "      <td>07/01/2021</td>\n",
       "      <td>08:31</td>\n",
       "      <td>50300</td>\n",
       "      <td>Operational</td>\n",
       "      <td>0.80</td>\n",
       "      <td>0.84</td>\n",
       "      <td>NaN</td>\n",
       "      <td>&lt;1</td>\n",
       "      <td>&lt;1</td>\n",
       "    </tr>\n",
       "    <tr>\n",
       "      <th>...</th>\n",
       "      <td>...</td>\n",
       "      <td>...</td>\n",
       "      <td>...</td>\n",
       "      <td>...</td>\n",
       "      <td>...</td>\n",
       "      <td>...</td>\n",
       "      <td>...</td>\n",
       "      <td>...</td>\n",
       "      <td>...</td>\n",
       "      <td>...</td>\n",
       "    </tr>\n",
       "    <tr>\n",
       "      <th>126254</th>\n",
       "      <td>202307968</td>\n",
       "      <td>03/31/2023</td>\n",
       "      <td>09:47</td>\n",
       "      <td>1S07</td>\n",
       "      <td>Operational</td>\n",
       "      <td>0.74</td>\n",
       "      <td>0.63</td>\n",
       "      <td>NaN</td>\n",
       "      <td>&lt;1</td>\n",
       "      <td>&lt;1</td>\n",
       "    </tr>\n",
       "    <tr>\n",
       "      <th>126255</th>\n",
       "      <td>202307969</td>\n",
       "      <td>03/31/2023</td>\n",
       "      <td>12:12</td>\n",
       "      <td>32750</td>\n",
       "      <td>Compliance</td>\n",
       "      <td>0.41</td>\n",
       "      <td>0.65</td>\n",
       "      <td>NaN</td>\n",
       "      <td>&lt;1</td>\n",
       "      <td>&lt;1</td>\n",
       "    </tr>\n",
       "    <tr>\n",
       "      <th>126256</th>\n",
       "      <td>202307970</td>\n",
       "      <td>03/31/2023</td>\n",
       "      <td>08:35</td>\n",
       "      <td>33150</td>\n",
       "      <td>Compliance</td>\n",
       "      <td>0.43</td>\n",
       "      <td>0.3</td>\n",
       "      <td>NaN</td>\n",
       "      <td>&lt;1</td>\n",
       "      <td>&lt;1</td>\n",
       "    </tr>\n",
       "    <tr>\n",
       "      <th>126257</th>\n",
       "      <td>202307971</td>\n",
       "      <td>03/31/2023</td>\n",
       "      <td>11:38</td>\n",
       "      <td>33850</td>\n",
       "      <td>Compliance</td>\n",
       "      <td>0.44</td>\n",
       "      <td>0.68</td>\n",
       "      <td>NaN</td>\n",
       "      <td>&lt;1</td>\n",
       "      <td>&lt;1</td>\n",
       "    </tr>\n",
       "    <tr>\n",
       "      <th>126258</th>\n",
       "      <td>202307972</td>\n",
       "      <td>03/31/2023</td>\n",
       "      <td>10:21</td>\n",
       "      <td>3SC26</td>\n",
       "      <td>Operational</td>\n",
       "      <td>0.60</td>\n",
       "      <td>0.1</td>\n",
       "      <td>NaN</td>\n",
       "      <td>&lt;1</td>\n",
       "      <td>&lt;1</td>\n",
       "    </tr>\n",
       "  </tbody>\n",
       "</table>\n",
       "<p>126259 rows × 10 columns</p>\n",
       "</div>"
      ],
      "text/plain": [
       "        Sample Number Sample Date Sample Time Sample Site Sample class  \\\n",
       "0           202120243  07/01/2021       10:31       23650   Compliance   \n",
       "1           202120244  07/01/2021       09:54       29550   Compliance   \n",
       "2           202120245  07/01/2021       07:52       50200  Operational   \n",
       "3           202120246  07/01/2021       08:12       50250   Compliance   \n",
       "4           202120247  07/01/2021       08:31       50300  Operational   \n",
       "...               ...         ...         ...         ...          ...   \n",
       "126254      202307968  03/31/2023       09:47        1S07  Operational   \n",
       "126255      202307969  03/31/2023       12:12       32750   Compliance   \n",
       "126256      202307970  03/31/2023       08:35       33150   Compliance   \n",
       "126257      202307971  03/31/2023       11:38       33850   Compliance   \n",
       "126258      202307972  03/31/2023       10:21       3SC26  Operational   \n",
       "\n",
       "        Residual Free Chlorine (mg/L) Turbidity (NTU) Fluoride (mg/L)  \\\n",
       "0                                0.22            0.84             NaN   \n",
       "1                                0.69            0.81             NaN   \n",
       "2                                0.55            0.77             NaN   \n",
       "3                                0.87            0.81             NaN   \n",
       "4                                0.80            0.84             NaN   \n",
       "...                               ...             ...             ...   \n",
       "126254                           0.74            0.63             NaN   \n",
       "126255                           0.41            0.65             NaN   \n",
       "126256                           0.43             0.3             NaN   \n",
       "126257                           0.44            0.68             NaN   \n",
       "126258                           0.60             0.1             NaN   \n",
       "\n",
       "       Coliform (Quanti-Tray) (MPN /100mL) E.coli(Quanti-Tray) (MPN/100mL)  \n",
       "0                                       <1                              <1  \n",
       "1                                       <1                              <1  \n",
       "2                                       <1                              <1  \n",
       "3                                       <1                              <1  \n",
       "4                                       <1                              <1  \n",
       "...                                    ...                             ...  \n",
       "126254                                  <1                              <1  \n",
       "126255                                  <1                              <1  \n",
       "126256                                  <1                              <1  \n",
       "126257                                  <1                              <1  \n",
       "126258                                  <1                              <1  \n",
       "\n",
       "[126259 rows x 10 columns]"
      ]
     },
     "execution_count": 9,
     "metadata": {},
     "output_type": "execute_result"
    }
   ],
   "source": [
    "df=dataset.drop_duplicates()\n",
    "df"
   ]
  },
  {
   "cell_type": "markdown",
   "id": "50e58472",
   "metadata": {},
   "source": [
    "### Converting string to float datatypes"
   ]
  },
  {
   "cell_type": "code",
   "execution_count": 10,
   "id": "d3cfb7b5",
   "metadata": {},
   "outputs": [
    {
     "data": {
      "text/html": [
       "<div>\n",
       "<style scoped>\n",
       "    .dataframe tbody tr th:only-of-type {\n",
       "        vertical-align: middle;\n",
       "    }\n",
       "\n",
       "    .dataframe tbody tr th {\n",
       "        vertical-align: top;\n",
       "    }\n",
       "\n",
       "    .dataframe thead th {\n",
       "        text-align: right;\n",
       "    }\n",
       "</style>\n",
       "<table border=\"1\" class=\"dataframe\">\n",
       "  <thead>\n",
       "    <tr style=\"text-align: right;\">\n",
       "      <th></th>\n",
       "      <th>Sample Number</th>\n",
       "      <th>Sample Date</th>\n",
       "      <th>Sample Time</th>\n",
       "      <th>Sample Site</th>\n",
       "      <th>Sample class</th>\n",
       "      <th>Residual Free Chlorine (mg/L)</th>\n",
       "      <th>Turbidity (NTU)</th>\n",
       "      <th>Fluoride (mg/L)</th>\n",
       "      <th>Coliform (Quanti-Tray) (MPN /100mL)</th>\n",
       "      <th>E.coli(Quanti-Tray) (MPN/100mL)</th>\n",
       "    </tr>\n",
       "  </thead>\n",
       "  <tbody>\n",
       "    <tr>\n",
       "      <th>0</th>\n",
       "      <td>202120243</td>\n",
       "      <td>07/01/2021</td>\n",
       "      <td>10:31</td>\n",
       "      <td>23650</td>\n",
       "      <td>Compliance</td>\n",
       "      <td>0.22</td>\n",
       "      <td>0.84</td>\n",
       "      <td>NaN</td>\n",
       "      <td>1.0</td>\n",
       "      <td>1.0</td>\n",
       "    </tr>\n",
       "    <tr>\n",
       "      <th>1</th>\n",
       "      <td>202120244</td>\n",
       "      <td>07/01/2021</td>\n",
       "      <td>09:54</td>\n",
       "      <td>29550</td>\n",
       "      <td>Compliance</td>\n",
       "      <td>0.69</td>\n",
       "      <td>0.81</td>\n",
       "      <td>NaN</td>\n",
       "      <td>1.0</td>\n",
       "      <td>1.0</td>\n",
       "    </tr>\n",
       "    <tr>\n",
       "      <th>2</th>\n",
       "      <td>202120245</td>\n",
       "      <td>07/01/2021</td>\n",
       "      <td>07:52</td>\n",
       "      <td>50200</td>\n",
       "      <td>Operational</td>\n",
       "      <td>0.55</td>\n",
       "      <td>0.77</td>\n",
       "      <td>NaN</td>\n",
       "      <td>1.0</td>\n",
       "      <td>1.0</td>\n",
       "    </tr>\n",
       "    <tr>\n",
       "      <th>3</th>\n",
       "      <td>202120246</td>\n",
       "      <td>07/01/2021</td>\n",
       "      <td>08:12</td>\n",
       "      <td>50250</td>\n",
       "      <td>Compliance</td>\n",
       "      <td>0.87</td>\n",
       "      <td>0.81</td>\n",
       "      <td>NaN</td>\n",
       "      <td>1.0</td>\n",
       "      <td>1.0</td>\n",
       "    </tr>\n",
       "    <tr>\n",
       "      <th>4</th>\n",
       "      <td>202120247</td>\n",
       "      <td>07/01/2021</td>\n",
       "      <td>08:31</td>\n",
       "      <td>50300</td>\n",
       "      <td>Operational</td>\n",
       "      <td>0.80</td>\n",
       "      <td>0.84</td>\n",
       "      <td>NaN</td>\n",
       "      <td>1.0</td>\n",
       "      <td>1.0</td>\n",
       "    </tr>\n",
       "    <tr>\n",
       "      <th>...</th>\n",
       "      <td>...</td>\n",
       "      <td>...</td>\n",
       "      <td>...</td>\n",
       "      <td>...</td>\n",
       "      <td>...</td>\n",
       "      <td>...</td>\n",
       "      <td>...</td>\n",
       "      <td>...</td>\n",
       "      <td>...</td>\n",
       "      <td>...</td>\n",
       "    </tr>\n",
       "    <tr>\n",
       "      <th>126254</th>\n",
       "      <td>202307968</td>\n",
       "      <td>03/31/2023</td>\n",
       "      <td>09:47</td>\n",
       "      <td>1S07</td>\n",
       "      <td>Operational</td>\n",
       "      <td>0.74</td>\n",
       "      <td>0.63</td>\n",
       "      <td>NaN</td>\n",
       "      <td>1.0</td>\n",
       "      <td>1.0</td>\n",
       "    </tr>\n",
       "    <tr>\n",
       "      <th>126255</th>\n",
       "      <td>202307969</td>\n",
       "      <td>03/31/2023</td>\n",
       "      <td>12:12</td>\n",
       "      <td>32750</td>\n",
       "      <td>Compliance</td>\n",
       "      <td>0.41</td>\n",
       "      <td>0.65</td>\n",
       "      <td>NaN</td>\n",
       "      <td>1.0</td>\n",
       "      <td>1.0</td>\n",
       "    </tr>\n",
       "    <tr>\n",
       "      <th>126256</th>\n",
       "      <td>202307970</td>\n",
       "      <td>03/31/2023</td>\n",
       "      <td>08:35</td>\n",
       "      <td>33150</td>\n",
       "      <td>Compliance</td>\n",
       "      <td>0.43</td>\n",
       "      <td>0.30</td>\n",
       "      <td>NaN</td>\n",
       "      <td>1.0</td>\n",
       "      <td>1.0</td>\n",
       "    </tr>\n",
       "    <tr>\n",
       "      <th>126257</th>\n",
       "      <td>202307971</td>\n",
       "      <td>03/31/2023</td>\n",
       "      <td>11:38</td>\n",
       "      <td>33850</td>\n",
       "      <td>Compliance</td>\n",
       "      <td>0.44</td>\n",
       "      <td>0.68</td>\n",
       "      <td>NaN</td>\n",
       "      <td>1.0</td>\n",
       "      <td>1.0</td>\n",
       "    </tr>\n",
       "    <tr>\n",
       "      <th>126258</th>\n",
       "      <td>202307972</td>\n",
       "      <td>03/31/2023</td>\n",
       "      <td>10:21</td>\n",
       "      <td>3SC26</td>\n",
       "      <td>Operational</td>\n",
       "      <td>0.60</td>\n",
       "      <td>0.10</td>\n",
       "      <td>NaN</td>\n",
       "      <td>1.0</td>\n",
       "      <td>1.0</td>\n",
       "    </tr>\n",
       "  </tbody>\n",
       "</table>\n",
       "<p>126259 rows × 10 columns</p>\n",
       "</div>"
      ],
      "text/plain": [
       "        Sample Number Sample Date Sample Time Sample Site Sample class  \\\n",
       "0           202120243  07/01/2021       10:31       23650   Compliance   \n",
       "1           202120244  07/01/2021       09:54       29550   Compliance   \n",
       "2           202120245  07/01/2021       07:52       50200  Operational   \n",
       "3           202120246  07/01/2021       08:12       50250   Compliance   \n",
       "4           202120247  07/01/2021       08:31       50300  Operational   \n",
       "...               ...         ...         ...         ...          ...   \n",
       "126254      202307968  03/31/2023       09:47        1S07  Operational   \n",
       "126255      202307969  03/31/2023       12:12       32750   Compliance   \n",
       "126256      202307970  03/31/2023       08:35       33150   Compliance   \n",
       "126257      202307971  03/31/2023       11:38       33850   Compliance   \n",
       "126258      202307972  03/31/2023       10:21       3SC26  Operational   \n",
       "\n",
       "        Residual Free Chlorine (mg/L)  Turbidity (NTU)  Fluoride (mg/L)  \\\n",
       "0                                0.22             0.84              NaN   \n",
       "1                                0.69             0.81              NaN   \n",
       "2                                0.55             0.77              NaN   \n",
       "3                                0.87             0.81              NaN   \n",
       "4                                0.80             0.84              NaN   \n",
       "...                               ...              ...              ...   \n",
       "126254                           0.74             0.63              NaN   \n",
       "126255                           0.41             0.65              NaN   \n",
       "126256                           0.43             0.30              NaN   \n",
       "126257                           0.44             0.68              NaN   \n",
       "126258                           0.60             0.10              NaN   \n",
       "\n",
       "        Coliform (Quanti-Tray) (MPN /100mL)  E.coli(Quanti-Tray) (MPN/100mL)  \n",
       "0                                       1.0                              1.0  \n",
       "1                                       1.0                              1.0  \n",
       "2                                       1.0                              1.0  \n",
       "3                                       1.0                              1.0  \n",
       "4                                       1.0                              1.0  \n",
       "...                                     ...                              ...  \n",
       "126254                                  1.0                              1.0  \n",
       "126255                                  1.0                              1.0  \n",
       "126256                                  1.0                              1.0  \n",
       "126257                                  1.0                              1.0  \n",
       "126258                                  1.0                              1.0  \n",
       "\n",
       "[126259 rows x 10 columns]"
      ]
     },
     "execution_count": 10,
     "metadata": {},
     "output_type": "execute_result"
    }
   ],
   "source": [
    "df['Coliform (Quanti-Tray) (MPN /100mL)'] = df['Coliform (Quanti-Tray) (MPN /100mL)'].str.replace('<', '').str.replace('>', '').astype(float)\n",
    "df['E.coli(Quanti-Tray) (MPN/100mL)'] = df['E.coli(Quanti-Tray) (MPN/100mL)'].str.replace('<', '').astype(float)\n",
    "df['Turbidity (NTU)'] = df['Turbidity (NTU)'].str.replace('<', '').astype(float)\n",
    "df['Fluoride (mg/L)'] = df['Fluoride (mg/L)'].str.replace('<', '').astype(float)\n",
    "df"
   ]
  },
  {
   "cell_type": "markdown",
   "id": "5ad75f89",
   "metadata": {},
   "source": [
    "## Converting nan values to NaN "
   ]
  },
  {
   "cell_type": "code",
   "execution_count": 11,
   "id": "180547f4",
   "metadata": {},
   "outputs": [
    {
     "data": {
      "text/html": [
       "<div>\n",
       "<style scoped>\n",
       "    .dataframe tbody tr th:only-of-type {\n",
       "        vertical-align: middle;\n",
       "    }\n",
       "\n",
       "    .dataframe tbody tr th {\n",
       "        vertical-align: top;\n",
       "    }\n",
       "\n",
       "    .dataframe thead th {\n",
       "        text-align: right;\n",
       "    }\n",
       "</style>\n",
       "<table border=\"1\" class=\"dataframe\">\n",
       "  <thead>\n",
       "    <tr style=\"text-align: right;\">\n",
       "      <th></th>\n",
       "      <th>Sample Number</th>\n",
       "      <th>Sample Date</th>\n",
       "      <th>Sample Time</th>\n",
       "      <th>Sample Site</th>\n",
       "      <th>Sample class</th>\n",
       "      <th>Residual Free Chlorine (mg/L)</th>\n",
       "      <th>Turbidity (NTU)</th>\n",
       "      <th>Fluoride (mg/L)</th>\n",
       "      <th>Coliform (Quanti-Tray) (MPN /100mL)</th>\n",
       "      <th>E.coli(Quanti-Tray) (MPN/100mL)</th>\n",
       "    </tr>\n",
       "  </thead>\n",
       "  <tbody>\n",
       "    <tr>\n",
       "      <th>0</th>\n",
       "      <td>202120243</td>\n",
       "      <td>07/01/2021</td>\n",
       "      <td>10:31</td>\n",
       "      <td>23650</td>\n",
       "      <td>Compliance</td>\n",
       "      <td>0.22</td>\n",
       "      <td>0.84</td>\n",
       "      <td>NaN</td>\n",
       "      <td>1.0</td>\n",
       "      <td>1.0</td>\n",
       "    </tr>\n",
       "    <tr>\n",
       "      <th>1</th>\n",
       "      <td>202120244</td>\n",
       "      <td>07/01/2021</td>\n",
       "      <td>09:54</td>\n",
       "      <td>29550</td>\n",
       "      <td>Compliance</td>\n",
       "      <td>0.69</td>\n",
       "      <td>0.81</td>\n",
       "      <td>NaN</td>\n",
       "      <td>1.0</td>\n",
       "      <td>1.0</td>\n",
       "    </tr>\n",
       "    <tr>\n",
       "      <th>2</th>\n",
       "      <td>202120245</td>\n",
       "      <td>07/01/2021</td>\n",
       "      <td>07:52</td>\n",
       "      <td>50200</td>\n",
       "      <td>Operational</td>\n",
       "      <td>0.55</td>\n",
       "      <td>0.77</td>\n",
       "      <td>NaN</td>\n",
       "      <td>1.0</td>\n",
       "      <td>1.0</td>\n",
       "    </tr>\n",
       "    <tr>\n",
       "      <th>3</th>\n",
       "      <td>202120246</td>\n",
       "      <td>07/01/2021</td>\n",
       "      <td>08:12</td>\n",
       "      <td>50250</td>\n",
       "      <td>Compliance</td>\n",
       "      <td>0.87</td>\n",
       "      <td>0.81</td>\n",
       "      <td>NaN</td>\n",
       "      <td>1.0</td>\n",
       "      <td>1.0</td>\n",
       "    </tr>\n",
       "    <tr>\n",
       "      <th>4</th>\n",
       "      <td>202120247</td>\n",
       "      <td>07/01/2021</td>\n",
       "      <td>08:31</td>\n",
       "      <td>50300</td>\n",
       "      <td>Operational</td>\n",
       "      <td>0.80</td>\n",
       "      <td>0.84</td>\n",
       "      <td>NaN</td>\n",
       "      <td>1.0</td>\n",
       "      <td>1.0</td>\n",
       "    </tr>\n",
       "    <tr>\n",
       "      <th>...</th>\n",
       "      <td>...</td>\n",
       "      <td>...</td>\n",
       "      <td>...</td>\n",
       "      <td>...</td>\n",
       "      <td>...</td>\n",
       "      <td>...</td>\n",
       "      <td>...</td>\n",
       "      <td>...</td>\n",
       "      <td>...</td>\n",
       "      <td>...</td>\n",
       "    </tr>\n",
       "    <tr>\n",
       "      <th>126254</th>\n",
       "      <td>202307968</td>\n",
       "      <td>03/31/2023</td>\n",
       "      <td>09:47</td>\n",
       "      <td>1S07</td>\n",
       "      <td>Operational</td>\n",
       "      <td>0.74</td>\n",
       "      <td>0.63</td>\n",
       "      <td>NaN</td>\n",
       "      <td>1.0</td>\n",
       "      <td>1.0</td>\n",
       "    </tr>\n",
       "    <tr>\n",
       "      <th>126255</th>\n",
       "      <td>202307969</td>\n",
       "      <td>03/31/2023</td>\n",
       "      <td>12:12</td>\n",
       "      <td>32750</td>\n",
       "      <td>Compliance</td>\n",
       "      <td>0.41</td>\n",
       "      <td>0.65</td>\n",
       "      <td>NaN</td>\n",
       "      <td>1.0</td>\n",
       "      <td>1.0</td>\n",
       "    </tr>\n",
       "    <tr>\n",
       "      <th>126256</th>\n",
       "      <td>202307970</td>\n",
       "      <td>03/31/2023</td>\n",
       "      <td>08:35</td>\n",
       "      <td>33150</td>\n",
       "      <td>Compliance</td>\n",
       "      <td>0.43</td>\n",
       "      <td>0.30</td>\n",
       "      <td>NaN</td>\n",
       "      <td>1.0</td>\n",
       "      <td>1.0</td>\n",
       "    </tr>\n",
       "    <tr>\n",
       "      <th>126257</th>\n",
       "      <td>202307971</td>\n",
       "      <td>03/31/2023</td>\n",
       "      <td>11:38</td>\n",
       "      <td>33850</td>\n",
       "      <td>Compliance</td>\n",
       "      <td>0.44</td>\n",
       "      <td>0.68</td>\n",
       "      <td>NaN</td>\n",
       "      <td>1.0</td>\n",
       "      <td>1.0</td>\n",
       "    </tr>\n",
       "    <tr>\n",
       "      <th>126258</th>\n",
       "      <td>202307972</td>\n",
       "      <td>03/31/2023</td>\n",
       "      <td>10:21</td>\n",
       "      <td>3SC26</td>\n",
       "      <td>Operational</td>\n",
       "      <td>0.60</td>\n",
       "      <td>0.10</td>\n",
       "      <td>NaN</td>\n",
       "      <td>1.0</td>\n",
       "      <td>1.0</td>\n",
       "    </tr>\n",
       "  </tbody>\n",
       "</table>\n",
       "<p>126259 rows × 10 columns</p>\n",
       "</div>"
      ],
      "text/plain": [
       "        Sample Number Sample Date Sample Time Sample Site Sample class  \\\n",
       "0           202120243  07/01/2021       10:31       23650   Compliance   \n",
       "1           202120244  07/01/2021       09:54       29550   Compliance   \n",
       "2           202120245  07/01/2021       07:52       50200  Operational   \n",
       "3           202120246  07/01/2021       08:12       50250   Compliance   \n",
       "4           202120247  07/01/2021       08:31       50300  Operational   \n",
       "...               ...         ...         ...         ...          ...   \n",
       "126254      202307968  03/31/2023       09:47        1S07  Operational   \n",
       "126255      202307969  03/31/2023       12:12       32750   Compliance   \n",
       "126256      202307970  03/31/2023       08:35       33150   Compliance   \n",
       "126257      202307971  03/31/2023       11:38       33850   Compliance   \n",
       "126258      202307972  03/31/2023       10:21       3SC26  Operational   \n",
       "\n",
       "        Residual Free Chlorine (mg/L)  Turbidity (NTU)  Fluoride (mg/L)  \\\n",
       "0                                0.22             0.84              NaN   \n",
       "1                                0.69             0.81              NaN   \n",
       "2                                0.55             0.77              NaN   \n",
       "3                                0.87             0.81              NaN   \n",
       "4                                0.80             0.84              NaN   \n",
       "...                               ...              ...              ...   \n",
       "126254                           0.74             0.63              NaN   \n",
       "126255                           0.41             0.65              NaN   \n",
       "126256                           0.43             0.30              NaN   \n",
       "126257                           0.44             0.68              NaN   \n",
       "126258                           0.60             0.10              NaN   \n",
       "\n",
       "        Coliform (Quanti-Tray) (MPN /100mL)  E.coli(Quanti-Tray) (MPN/100mL)  \n",
       "0                                       1.0                              1.0  \n",
       "1                                       1.0                              1.0  \n",
       "2                                       1.0                              1.0  \n",
       "3                                       1.0                              1.0  \n",
       "4                                       1.0                              1.0  \n",
       "...                                     ...                              ...  \n",
       "126254                                  1.0                              1.0  \n",
       "126255                                  1.0                              1.0  \n",
       "126256                                  1.0                              1.0  \n",
       "126257                                  1.0                              1.0  \n",
       "126258                                  1.0                              1.0  \n",
       "\n",
       "[126259 rows x 10 columns]"
      ]
     },
     "execution_count": 11,
     "metadata": {},
     "output_type": "execute_result"
    }
   ],
   "source": [
    "columns=df.columns\n",
    "for column in columns:\n",
    "    df[column] = df[column].replace('nan', np.nan)\n",
    "df"
   ]
  },
  {
   "cell_type": "markdown",
   "id": "5308ea3e",
   "metadata": {},
   "source": [
    "### Checking the null values"
   ]
  },
  {
   "cell_type": "code",
   "execution_count": 12,
   "id": "5c9742e0",
   "metadata": {},
   "outputs": [
    {
     "data": {
      "text/plain": [
       "Sample Number                               0\n",
       "Sample Date                                 0\n",
       "Sample Time                                 0\n",
       "Sample Site                                 2\n",
       "Sample class                                0\n",
       "Residual Free Chlorine (mg/L)               2\n",
       "Turbidity (NTU)                             1\n",
       "Fluoride (mg/L)                        117709\n",
       "Coliform (Quanti-Tray) (MPN /100mL)        61\n",
       "E.coli(Quanti-Tray) (MPN/100mL)            61\n",
       "dtype: int64"
      ]
     },
     "execution_count": 12,
     "metadata": {},
     "output_type": "execute_result"
    }
   ],
   "source": [
    "df.isnull().sum()"
   ]
  },
  {
   "cell_type": "markdown",
   "id": "9a3fc9a9",
   "metadata": {},
   "source": [
    "### Dropping the rows with the null values"
   ]
  },
  {
   "cell_type": "code",
   "execution_count": 13,
   "id": "ee346439",
   "metadata": {},
   "outputs": [],
   "source": [
    "df.dropna(inplace=True)"
   ]
  },
  {
   "cell_type": "code",
   "execution_count": 14,
   "id": "1dc5a896",
   "metadata": {},
   "outputs": [
    {
     "data": {
      "text/html": [
       "<div>\n",
       "<style scoped>\n",
       "    .dataframe tbody tr th:only-of-type {\n",
       "        vertical-align: middle;\n",
       "    }\n",
       "\n",
       "    .dataframe tbody tr th {\n",
       "        vertical-align: top;\n",
       "    }\n",
       "\n",
       "    .dataframe thead th {\n",
       "        text-align: right;\n",
       "    }\n",
       "</style>\n",
       "<table border=\"1\" class=\"dataframe\">\n",
       "  <thead>\n",
       "    <tr style=\"text-align: right;\">\n",
       "      <th></th>\n",
       "      <th>Sample Number</th>\n",
       "      <th>Sample Date</th>\n",
       "      <th>Sample Time</th>\n",
       "      <th>Sample Site</th>\n",
       "      <th>Sample class</th>\n",
       "      <th>Residual Free Chlorine (mg/L)</th>\n",
       "      <th>Turbidity (NTU)</th>\n",
       "      <th>Fluoride (mg/L)</th>\n",
       "      <th>Coliform (Quanti-Tray) (MPN /100mL)</th>\n",
       "      <th>E.coli(Quanti-Tray) (MPN/100mL)</th>\n",
       "    </tr>\n",
       "  </thead>\n",
       "  <tbody>\n",
       "    <tr>\n",
       "      <th>18</th>\n",
       "      <td>202120277</td>\n",
       "      <td>07/01/2021</td>\n",
       "      <td>08:18</td>\n",
       "      <td>1S03</td>\n",
       "      <td>Operational</td>\n",
       "      <td>0.72</td>\n",
       "      <td>0.72</td>\n",
       "      <td>0.71</td>\n",
       "      <td>1.0</td>\n",
       "      <td>1.0</td>\n",
       "    </tr>\n",
       "    <tr>\n",
       "      <th>19</th>\n",
       "      <td>202120278</td>\n",
       "      <td>07/01/2021</td>\n",
       "      <td>09:41</td>\n",
       "      <td>1S03A</td>\n",
       "      <td>Operational</td>\n",
       "      <td>0.92</td>\n",
       "      <td>0.78</td>\n",
       "      <td>0.73</td>\n",
       "      <td>1.0</td>\n",
       "      <td>1.0</td>\n",
       "    </tr>\n",
       "    <tr>\n",
       "      <th>20</th>\n",
       "      <td>202120279</td>\n",
       "      <td>07/01/2021</td>\n",
       "      <td>09:17</td>\n",
       "      <td>1S03B</td>\n",
       "      <td>Operational</td>\n",
       "      <td>0.72</td>\n",
       "      <td>0.76</td>\n",
       "      <td>0.72</td>\n",
       "      <td>11.1</td>\n",
       "      <td>1.0</td>\n",
       "    </tr>\n",
       "    <tr>\n",
       "      <th>21</th>\n",
       "      <td>202120280</td>\n",
       "      <td>07/01/2021</td>\n",
       "      <td>08:36</td>\n",
       "      <td>1SCH3</td>\n",
       "      <td>Operational</td>\n",
       "      <td>0.64</td>\n",
       "      <td>0.97</td>\n",
       "      <td>0.72</td>\n",
       "      <td>1.0</td>\n",
       "      <td>1.0</td>\n",
       "    </tr>\n",
       "    <tr>\n",
       "      <th>22</th>\n",
       "      <td>202120281</td>\n",
       "      <td>07/01/2021</td>\n",
       "      <td>08:44</td>\n",
       "      <td>1SCL1</td>\n",
       "      <td>Operational</td>\n",
       "      <td>0.81</td>\n",
       "      <td>0.18</td>\n",
       "      <td>0.69</td>\n",
       "      <td>1.0</td>\n",
       "      <td>1.0</td>\n",
       "    </tr>\n",
       "    <tr>\n",
       "      <th>...</th>\n",
       "      <td>...</td>\n",
       "      <td>...</td>\n",
       "      <td>...</td>\n",
       "      <td>...</td>\n",
       "      <td>...</td>\n",
       "      <td>...</td>\n",
       "      <td>...</td>\n",
       "      <td>...</td>\n",
       "      <td>...</td>\n",
       "      <td>...</td>\n",
       "    </tr>\n",
       "    <tr>\n",
       "      <th>65498</th>\n",
       "      <td>201809106</td>\n",
       "      <td>03/30/2018</td>\n",
       "      <td>11:25</td>\n",
       "      <td>1S03</td>\n",
       "      <td>Operational</td>\n",
       "      <td>0.58</td>\n",
       "      <td>0.95</td>\n",
       "      <td>0.75</td>\n",
       "      <td>1.0</td>\n",
       "      <td>1.0</td>\n",
       "    </tr>\n",
       "    <tr>\n",
       "      <th>65499</th>\n",
       "      <td>201809107</td>\n",
       "      <td>03/30/2018</td>\n",
       "      <td>10:43</td>\n",
       "      <td>1S03A</td>\n",
       "      <td>Operational</td>\n",
       "      <td>0.85</td>\n",
       "      <td>0.98</td>\n",
       "      <td>0.74</td>\n",
       "      <td>1.0</td>\n",
       "      <td>1.0</td>\n",
       "    </tr>\n",
       "    <tr>\n",
       "      <th>65500</th>\n",
       "      <td>201809108</td>\n",
       "      <td>03/30/2018</td>\n",
       "      <td>10:04</td>\n",
       "      <td>1S03B</td>\n",
       "      <td>Operational</td>\n",
       "      <td>0.70</td>\n",
       "      <td>0.90</td>\n",
       "      <td>0.75</td>\n",
       "      <td>1.0</td>\n",
       "      <td>1.0</td>\n",
       "    </tr>\n",
       "    <tr>\n",
       "      <th>65501</th>\n",
       "      <td>201809109</td>\n",
       "      <td>03/30/2018</td>\n",
       "      <td>11:09</td>\n",
       "      <td>1SCL1</td>\n",
       "      <td>Operational</td>\n",
       "      <td>0.76</td>\n",
       "      <td>1.04</td>\n",
       "      <td>0.75</td>\n",
       "      <td>1.0</td>\n",
       "      <td>1.0</td>\n",
       "    </tr>\n",
       "    <tr>\n",
       "      <th>65502</th>\n",
       "      <td>201809110</td>\n",
       "      <td>03/30/2018</td>\n",
       "      <td>11:04</td>\n",
       "      <td>1SCH3</td>\n",
       "      <td>Operational</td>\n",
       "      <td>0.55</td>\n",
       "      <td>0.85</td>\n",
       "      <td>0.75</td>\n",
       "      <td>1.0</td>\n",
       "      <td>1.0</td>\n",
       "    </tr>\n",
       "  </tbody>\n",
       "</table>\n",
       "<p>8545 rows × 10 columns</p>\n",
       "</div>"
      ],
      "text/plain": [
       "       Sample Number Sample Date Sample Time Sample Site Sample class  \\\n",
       "18         202120277  07/01/2021       08:18        1S03  Operational   \n",
       "19         202120278  07/01/2021       09:41       1S03A  Operational   \n",
       "20         202120279  07/01/2021       09:17       1S03B  Operational   \n",
       "21         202120280  07/01/2021       08:36       1SCH3  Operational   \n",
       "22         202120281  07/01/2021       08:44       1SCL1  Operational   \n",
       "...              ...         ...         ...         ...          ...   \n",
       "65498      201809106  03/30/2018       11:25        1S03  Operational   \n",
       "65499      201809107  03/30/2018       10:43       1S03A  Operational   \n",
       "65500      201809108  03/30/2018       10:04       1S03B  Operational   \n",
       "65501      201809109  03/30/2018       11:09       1SCL1  Operational   \n",
       "65502      201809110  03/30/2018       11:04       1SCH3  Operational   \n",
       "\n",
       "       Residual Free Chlorine (mg/L)  Turbidity (NTU)  Fluoride (mg/L)  \\\n",
       "18                              0.72             0.72             0.71   \n",
       "19                              0.92             0.78             0.73   \n",
       "20                              0.72             0.76             0.72   \n",
       "21                              0.64             0.97             0.72   \n",
       "22                              0.81             0.18             0.69   \n",
       "...                              ...              ...              ...   \n",
       "65498                           0.58             0.95             0.75   \n",
       "65499                           0.85             0.98             0.74   \n",
       "65500                           0.70             0.90             0.75   \n",
       "65501                           0.76             1.04             0.75   \n",
       "65502                           0.55             0.85             0.75   \n",
       "\n",
       "       Coliform (Quanti-Tray) (MPN /100mL)  E.coli(Quanti-Tray) (MPN/100mL)  \n",
       "18                                     1.0                              1.0  \n",
       "19                                     1.0                              1.0  \n",
       "20                                    11.1                              1.0  \n",
       "21                                     1.0                              1.0  \n",
       "22                                     1.0                              1.0  \n",
       "...                                    ...                              ...  \n",
       "65498                                  1.0                              1.0  \n",
       "65499                                  1.0                              1.0  \n",
       "65500                                  1.0                              1.0  \n",
       "65501                                  1.0                              1.0  \n",
       "65502                                  1.0                              1.0  \n",
       "\n",
       "[8545 rows x 10 columns]"
      ]
     },
     "execution_count": 14,
     "metadata": {},
     "output_type": "execute_result"
    }
   ],
   "source": [
    "df"
   ]
  },
  {
   "cell_type": "code",
   "execution_count": 15,
   "id": "cb54d266",
   "metadata": {},
   "outputs": [
    {
     "data": {
      "text/plain": [
       "Sample Number                          0\n",
       "Sample Date                            0\n",
       "Sample Time                            0\n",
       "Sample Site                            0\n",
       "Sample class                           0\n",
       "Residual Free Chlorine (mg/L)          0\n",
       "Turbidity (NTU)                        0\n",
       "Fluoride (mg/L)                        0\n",
       "Coliform (Quanti-Tray) (MPN /100mL)    0\n",
       "E.coli(Quanti-Tray) (MPN/100mL)        0\n",
       "dtype: int64"
      ]
     },
     "execution_count": 15,
     "metadata": {},
     "output_type": "execute_result"
    }
   ],
   "source": [
    "df.isnull().sum()"
   ]
  },
  {
   "cell_type": "code",
   "execution_count": 16,
   "id": "2400f602",
   "metadata": {},
   "outputs": [
    {
     "name": "stdout",
     "output_type": "stream",
     "text": [
      "<class 'pandas.core.frame.DataFrame'>\n",
      "Int64Index: 8545 entries, 18 to 65502\n",
      "Data columns (total 10 columns):\n",
      " #   Column                               Non-Null Count  Dtype  \n",
      "---  ------                               --------------  -----  \n",
      " 0   Sample Number                        8545 non-null   int64  \n",
      " 1   Sample Date                          8545 non-null   object \n",
      " 2   Sample Time                          8545 non-null   object \n",
      " 3   Sample Site                          8545 non-null   object \n",
      " 4   Sample class                         8545 non-null   object \n",
      " 5   Residual Free Chlorine (mg/L)        8545 non-null   float64\n",
      " 6   Turbidity (NTU)                      8545 non-null   float64\n",
      " 7   Fluoride (mg/L)                      8545 non-null   float64\n",
      " 8   Coliform (Quanti-Tray) (MPN /100mL)  8545 non-null   float64\n",
      " 9   E.coli(Quanti-Tray) (MPN/100mL)      8545 non-null   float64\n",
      "dtypes: float64(5), int64(1), object(4)\n",
      "memory usage: 734.3+ KB\n"
     ]
    }
   ],
   "source": [
    "df.info()"
   ]
  },
  {
   "cell_type": "markdown",
   "id": "f1f19a33",
   "metadata": {},
   "source": [
    "## Label encoding(converting the categorical values to numeric)"
   ]
  },
  {
   "cell_type": "code",
   "execution_count": 17,
   "id": "8e239c8a",
   "metadata": {},
   "outputs": [],
   "source": [
    "from sklearn.preprocessing import LabelEncoder\n",
    "\n",
    "label_encoder = LabelEncoder()\n",
    "df['Sample class'] = label_encoder.fit_transform(df['Sample class'])\n"
   ]
  },
  {
   "cell_type": "code",
   "execution_count": 18,
   "id": "8919a679",
   "metadata": {},
   "outputs": [
    {
     "data": {
      "text/plain": [
       "1    7572\n",
       "0     971\n",
       "2       2\n",
       "Name: Sample class, dtype: int64"
      ]
     },
     "execution_count": 18,
     "metadata": {},
     "output_type": "execute_result"
    }
   ],
   "source": [
    "df['Sample class'].value_counts()"
   ]
  },
  {
   "cell_type": "code",
   "execution_count": 19,
   "id": "09c87587",
   "metadata": {},
   "outputs": [
    {
     "name": "stdout",
     "output_type": "stream",
     "text": [
      "{'Compliance': 0, 'Operational': 1, 'Resample_Operational': 2}\n"
     ]
    }
   ],
   "source": [
    "class_labels = label_encoder.classes_\n",
    "class_to_label_mapping = {cls: label for cls, label in zip(class_labels, range(len(class_labels)))}\n",
    "\n",
    "print(class_to_label_mapping)"
   ]
  },
  {
   "cell_type": "code",
   "execution_count": 20,
   "id": "3fa852e7",
   "metadata": {},
   "outputs": [
    {
     "data": {
      "text/plain": [
       "(8545, 10)"
      ]
     },
     "execution_count": 20,
     "metadata": {},
     "output_type": "execute_result"
    }
   ],
   "source": [
    "df.shape"
   ]
  },
  {
   "cell_type": "code",
   "execution_count": 21,
   "id": "235aacb9",
   "metadata": {},
   "outputs": [
    {
     "data": {
      "text/plain": [
       "Sample Number                          0\n",
       "Sample Date                            0\n",
       "Sample Time                            0\n",
       "Sample Site                            0\n",
       "Sample class                           0\n",
       "Residual Free Chlorine (mg/L)          0\n",
       "Turbidity (NTU)                        0\n",
       "Fluoride (mg/L)                        0\n",
       "Coliform (Quanti-Tray) (MPN /100mL)    0\n",
       "E.coli(Quanti-Tray) (MPN/100mL)        0\n",
       "dtype: int64"
      ]
     },
     "execution_count": 21,
     "metadata": {},
     "output_type": "execute_result"
    }
   ],
   "source": [
    "df.isnull().sum()"
   ]
  },
  {
   "cell_type": "code",
   "execution_count": 22,
   "id": "12d8ff54",
   "metadata": {},
   "outputs": [
    {
     "name": "stdout",
     "output_type": "stream",
     "text": [
      "<class 'pandas.core.frame.DataFrame'>\n",
      "Int64Index: 8545 entries, 18 to 65502\n",
      "Data columns (total 10 columns):\n",
      " #   Column                               Non-Null Count  Dtype  \n",
      "---  ------                               --------------  -----  \n",
      " 0   Sample Number                        8545 non-null   int64  \n",
      " 1   Sample Date                          8545 non-null   object \n",
      " 2   Sample Time                          8545 non-null   object \n",
      " 3   Sample Site                          8545 non-null   object \n",
      " 4   Sample class                         8545 non-null   int32  \n",
      " 5   Residual Free Chlorine (mg/L)        8545 non-null   float64\n",
      " 6   Turbidity (NTU)                      8545 non-null   float64\n",
      " 7   Fluoride (mg/L)                      8545 non-null   float64\n",
      " 8   Coliform (Quanti-Tray) (MPN /100mL)  8545 non-null   float64\n",
      " 9   E.coli(Quanti-Tray) (MPN/100mL)      8545 non-null   float64\n",
      "dtypes: float64(5), int32(1), int64(1), object(3)\n",
      "memory usage: 701.0+ KB\n"
     ]
    }
   ],
   "source": [
    "df.info()"
   ]
  },
  {
   "cell_type": "code",
   "execution_count": 23,
   "id": "c9a97c91",
   "metadata": {},
   "outputs": [
    {
     "data": {
      "text/html": [
       "<div>\n",
       "<style scoped>\n",
       "    .dataframe tbody tr th:only-of-type {\n",
       "        vertical-align: middle;\n",
       "    }\n",
       "\n",
       "    .dataframe tbody tr th {\n",
       "        vertical-align: top;\n",
       "    }\n",
       "\n",
       "    .dataframe thead th {\n",
       "        text-align: right;\n",
       "    }\n",
       "</style>\n",
       "<table border=\"1\" class=\"dataframe\">\n",
       "  <thead>\n",
       "    <tr style=\"text-align: right;\">\n",
       "      <th></th>\n",
       "      <th>Sample Number</th>\n",
       "      <th>Sample Date</th>\n",
       "      <th>Sample Time</th>\n",
       "      <th>Sample Site</th>\n",
       "      <th>Sample class</th>\n",
       "      <th>Residual Free Chlorine (mg/L)</th>\n",
       "      <th>Turbidity (NTU)</th>\n",
       "      <th>Fluoride (mg/L)</th>\n",
       "      <th>Coliform (Quanti-Tray) (MPN /100mL)</th>\n",
       "      <th>E.coli(Quanti-Tray) (MPN/100mL)</th>\n",
       "    </tr>\n",
       "  </thead>\n",
       "  <tbody>\n",
       "    <tr>\n",
       "      <th>18</th>\n",
       "      <td>202120277</td>\n",
       "      <td>07/01/2021</td>\n",
       "      <td>08:18</td>\n",
       "      <td>1S03</td>\n",
       "      <td>1</td>\n",
       "      <td>0.72</td>\n",
       "      <td>0.72</td>\n",
       "      <td>0.71</td>\n",
       "      <td>1.0</td>\n",
       "      <td>1.0</td>\n",
       "    </tr>\n",
       "    <tr>\n",
       "      <th>19</th>\n",
       "      <td>202120278</td>\n",
       "      <td>07/01/2021</td>\n",
       "      <td>09:41</td>\n",
       "      <td>1S03A</td>\n",
       "      <td>1</td>\n",
       "      <td>0.92</td>\n",
       "      <td>0.78</td>\n",
       "      <td>0.73</td>\n",
       "      <td>1.0</td>\n",
       "      <td>1.0</td>\n",
       "    </tr>\n",
       "    <tr>\n",
       "      <th>20</th>\n",
       "      <td>202120279</td>\n",
       "      <td>07/01/2021</td>\n",
       "      <td>09:17</td>\n",
       "      <td>1S03B</td>\n",
       "      <td>1</td>\n",
       "      <td>0.72</td>\n",
       "      <td>0.76</td>\n",
       "      <td>0.72</td>\n",
       "      <td>11.1</td>\n",
       "      <td>1.0</td>\n",
       "    </tr>\n",
       "    <tr>\n",
       "      <th>21</th>\n",
       "      <td>202120280</td>\n",
       "      <td>07/01/2021</td>\n",
       "      <td>08:36</td>\n",
       "      <td>1SCH3</td>\n",
       "      <td>1</td>\n",
       "      <td>0.64</td>\n",
       "      <td>0.97</td>\n",
       "      <td>0.72</td>\n",
       "      <td>1.0</td>\n",
       "      <td>1.0</td>\n",
       "    </tr>\n",
       "    <tr>\n",
       "      <th>22</th>\n",
       "      <td>202120281</td>\n",
       "      <td>07/01/2021</td>\n",
       "      <td>08:44</td>\n",
       "      <td>1SCL1</td>\n",
       "      <td>1</td>\n",
       "      <td>0.81</td>\n",
       "      <td>0.18</td>\n",
       "      <td>0.69</td>\n",
       "      <td>1.0</td>\n",
       "      <td>1.0</td>\n",
       "    </tr>\n",
       "    <tr>\n",
       "      <th>...</th>\n",
       "      <td>...</td>\n",
       "      <td>...</td>\n",
       "      <td>...</td>\n",
       "      <td>...</td>\n",
       "      <td>...</td>\n",
       "      <td>...</td>\n",
       "      <td>...</td>\n",
       "      <td>...</td>\n",
       "      <td>...</td>\n",
       "      <td>...</td>\n",
       "    </tr>\n",
       "    <tr>\n",
       "      <th>65498</th>\n",
       "      <td>201809106</td>\n",
       "      <td>03/30/2018</td>\n",
       "      <td>11:25</td>\n",
       "      <td>1S03</td>\n",
       "      <td>1</td>\n",
       "      <td>0.58</td>\n",
       "      <td>0.95</td>\n",
       "      <td>0.75</td>\n",
       "      <td>1.0</td>\n",
       "      <td>1.0</td>\n",
       "    </tr>\n",
       "    <tr>\n",
       "      <th>65499</th>\n",
       "      <td>201809107</td>\n",
       "      <td>03/30/2018</td>\n",
       "      <td>10:43</td>\n",
       "      <td>1S03A</td>\n",
       "      <td>1</td>\n",
       "      <td>0.85</td>\n",
       "      <td>0.98</td>\n",
       "      <td>0.74</td>\n",
       "      <td>1.0</td>\n",
       "      <td>1.0</td>\n",
       "    </tr>\n",
       "    <tr>\n",
       "      <th>65500</th>\n",
       "      <td>201809108</td>\n",
       "      <td>03/30/2018</td>\n",
       "      <td>10:04</td>\n",
       "      <td>1S03B</td>\n",
       "      <td>1</td>\n",
       "      <td>0.70</td>\n",
       "      <td>0.90</td>\n",
       "      <td>0.75</td>\n",
       "      <td>1.0</td>\n",
       "      <td>1.0</td>\n",
       "    </tr>\n",
       "    <tr>\n",
       "      <th>65501</th>\n",
       "      <td>201809109</td>\n",
       "      <td>03/30/2018</td>\n",
       "      <td>11:09</td>\n",
       "      <td>1SCL1</td>\n",
       "      <td>1</td>\n",
       "      <td>0.76</td>\n",
       "      <td>1.04</td>\n",
       "      <td>0.75</td>\n",
       "      <td>1.0</td>\n",
       "      <td>1.0</td>\n",
       "    </tr>\n",
       "    <tr>\n",
       "      <th>65502</th>\n",
       "      <td>201809110</td>\n",
       "      <td>03/30/2018</td>\n",
       "      <td>11:04</td>\n",
       "      <td>1SCH3</td>\n",
       "      <td>1</td>\n",
       "      <td>0.55</td>\n",
       "      <td>0.85</td>\n",
       "      <td>0.75</td>\n",
       "      <td>1.0</td>\n",
       "      <td>1.0</td>\n",
       "    </tr>\n",
       "  </tbody>\n",
       "</table>\n",
       "<p>8545 rows × 10 columns</p>\n",
       "</div>"
      ],
      "text/plain": [
       "       Sample Number Sample Date Sample Time Sample Site  Sample class  \\\n",
       "18         202120277  07/01/2021       08:18        1S03             1   \n",
       "19         202120278  07/01/2021       09:41       1S03A             1   \n",
       "20         202120279  07/01/2021       09:17       1S03B             1   \n",
       "21         202120280  07/01/2021       08:36       1SCH3             1   \n",
       "22         202120281  07/01/2021       08:44       1SCL1             1   \n",
       "...              ...         ...         ...         ...           ...   \n",
       "65498      201809106  03/30/2018       11:25        1S03             1   \n",
       "65499      201809107  03/30/2018       10:43       1S03A             1   \n",
       "65500      201809108  03/30/2018       10:04       1S03B             1   \n",
       "65501      201809109  03/30/2018       11:09       1SCL1             1   \n",
       "65502      201809110  03/30/2018       11:04       1SCH3             1   \n",
       "\n",
       "       Residual Free Chlorine (mg/L)  Turbidity (NTU)  Fluoride (mg/L)  \\\n",
       "18                              0.72             0.72             0.71   \n",
       "19                              0.92             0.78             0.73   \n",
       "20                              0.72             0.76             0.72   \n",
       "21                              0.64             0.97             0.72   \n",
       "22                              0.81             0.18             0.69   \n",
       "...                              ...              ...              ...   \n",
       "65498                           0.58             0.95             0.75   \n",
       "65499                           0.85             0.98             0.74   \n",
       "65500                           0.70             0.90             0.75   \n",
       "65501                           0.76             1.04             0.75   \n",
       "65502                           0.55             0.85             0.75   \n",
       "\n",
       "       Coliform (Quanti-Tray) (MPN /100mL)  E.coli(Quanti-Tray) (MPN/100mL)  \n",
       "18                                     1.0                              1.0  \n",
       "19                                     1.0                              1.0  \n",
       "20                                    11.1                              1.0  \n",
       "21                                     1.0                              1.0  \n",
       "22                                     1.0                              1.0  \n",
       "...                                    ...                              ...  \n",
       "65498                                  1.0                              1.0  \n",
       "65499                                  1.0                              1.0  \n",
       "65500                                  1.0                              1.0  \n",
       "65501                                  1.0                              1.0  \n",
       "65502                                  1.0                              1.0  \n",
       "\n",
       "[8545 rows x 10 columns]"
      ]
     },
     "execution_count": 23,
     "metadata": {},
     "output_type": "execute_result"
    }
   ],
   "source": [
    "df"
   ]
  },
  {
   "cell_type": "markdown",
   "id": "0fbdeb6b",
   "metadata": {},
   "source": [
    "# Correlation Matrix"
   ]
  },
  {
   "cell_type": "code",
   "execution_count": 24,
   "id": "9e3ec893",
   "metadata": {},
   "outputs": [
    {
     "data": {
      "image/png": "[encoded data removed]",
      "text/plain": [
       "<Figure size 720x576 with 2 Axes>"
      ]
     },
     "metadata": {
      "needs_background": "light"
     },
     "output_type": "display_data"
    }
   ],
   "source": [
    "correlation_matrix = df.corr()\n",
    "\n",
    "plt.figure(figsize=(10, 8))\n",
    "sns.heatmap(correlation_matrix, annot=True, cmap='coolwarm', linewidths=0.5)\n",
    "plt.title('Correlation Matrix')\n",
    "plt.show()"
   ]
  },
  {
   "cell_type": "markdown",
   "id": "765db53e",
   "metadata": {},
   "source": [
    "## Distplot of Residual Free Chlorine"
   ]
  },
  {
   "cell_type": "code",
   "execution_count": 25,
   "id": "ac038e2f",
   "metadata": {},
   "outputs": [
    {
     "name": "stderr",
     "output_type": "stream",
     "text": [
      "C:\\ProgramData\\Anaconda3\\lib\\site-packages\\seaborn\\distributions.py:2619: FutureWarning: `distplot` is a deprecated function and will be removed in a future version. Please adapt your code to use either `displot` (a figure-level function with similar flexibility) or `histplot` (an axes-level function for histograms).\n",
      "  warnings.warn(msg, FutureWarning)\n"
     ]
    },
    {
     "data": {
      "image/png": "[encoded data removed]",
      "text/plain": [
       "<Figure size 432x432 with 1 Axes>"
      ]
     },
     "metadata": {},
     "output_type": "display_data"
    }
   ],
   "source": [
    "sns.set()\n",
    "plt.figure(figsize=(6,6))\n",
    "sns.distplot(df['Residual Free Chlorine (mg/L)'])\n",
    "plt.title('Residual Free Chlorine (mg/L) Distribution')\n",
    "plt.show()"
   ]
  },
  {
   "cell_type": "markdown",
   "id": "1d50f107",
   "metadata": {},
   "source": [
    "## Distplot of Turbidity distribution"
   ]
  },
  {
   "cell_type": "code",
   "execution_count": 26,
   "id": "bf499f89",
   "metadata": {},
   "outputs": [
    {
     "name": "stderr",
     "output_type": "stream",
     "text": [
      "C:\\ProgramData\\Anaconda3\\lib\\site-packages\\seaborn\\distributions.py:2619: FutureWarning: `distplot` is a deprecated function and will be removed in a future version. Please adapt your code to use either `displot` (a figure-level function with similar flexibility) or `histplot` (an axes-level function for histograms).\n",
      "  warnings.warn(msg, FutureWarning)\n"
     ]
    },
    {
     "data": {
      "image/png": "[encoded data removed]",
      "text/plain": [
       "<Figure size 432x432 with 1 Axes>"
      ]
     },
     "metadata": {},
     "output_type": "display_data"
    }
   ],
   "source": [
    "sns.set()\n",
    "plt.figure(figsize=(6,6))\n",
    "sns.distplot(df['Turbidity (NTU)'])\n",
    "plt.title('Turbidity (NTU) Distribution')\n",
    "plt.show()"
   ]
  },
  {
   "cell_type": "markdown",
   "id": "671726ee",
   "metadata": {},
   "source": [
    "### Since the plot is left skewed we are normalizing it using certain operations"
   ]
  },
  {
   "cell_type": "code",
   "execution_count": 27,
   "id": "f9eaff23",
   "metadata": {},
   "outputs": [
    {
     "data": {
      "image/png": "[encoded data removed]",
      "text/plain": [
       "<Figure size 864x360 with 2 Axes>"
      ]
     },
     "metadata": {},
     "output_type": "display_data"
    }
   ],
   "source": [
    "data = df['Turbidity (NTU)']\n",
    "\n",
    "log_data = np.log(data)\n",
    "\n",
    "plt.figure(figsize=(12, 5))\n",
    "\n",
    "plt.subplot(1, 2, 1)\n",
    "plt.hist(data, bins=30, color='blue', alpha=0.7)\n",
    "plt.title('Left-Skewed Data')\n",
    "\n",
    "plt.subplot(1, 2, 2)\n",
    "plt.hist(log_data, bins=30, color='green', alpha=0.7)\n",
    "plt.title('Log-Normalized Data')\n",
    "\n",
    "plt.tight_layout\n",
    "\n",
    "df['Turbidity (NTU)']=log_data"
   ]
  },
  {
   "cell_type": "markdown",
   "id": "c823dc93",
   "metadata": {},
   "source": [
    "The above is the normalized graph plot of Turbidity"
   ]
  },
  {
   "cell_type": "markdown",
   "id": "e583258f",
   "metadata": {},
   "source": [
    "## Normalized plot of Turbidity distribution"
   ]
  },
  {
   "cell_type": "code",
   "execution_count": 28,
   "id": "e658b0ca",
   "metadata": {},
   "outputs": [
    {
     "name": "stderr",
     "output_type": "stream",
     "text": [
      "C:\\ProgramData\\Anaconda3\\lib\\site-packages\\seaborn\\distributions.py:2619: FutureWarning: `distplot` is a deprecated function and will be removed in a future version. Please adapt your code to use either `displot` (a figure-level function with similar flexibility) or `histplot` (an axes-level function for histograms).\n",
      "  warnings.warn(msg, FutureWarning)\n"
     ]
    },
    {
     "data": {
      "image/png": "[encoded data removed]",
      "text/plain": [
       "<Figure size 432x432 with 1 Axes>"
      ]
     },
     "metadata": {},
     "output_type": "display_data"
    }
   ],
   "source": [
    "sns.set()\n",
    "plt.figure(figsize=(6,6))\n",
    "sns.distplot(df['Turbidity (NTU)'])\n",
    "plt.title('Turbidity (NTU) Distribution')\n",
    "plt.show()"
   ]
  },
  {
   "cell_type": "markdown",
   "id": "cd8b315e",
   "metadata": {},
   "source": [
    "## Distplot of Flouride distribution"
   ]
  },
  {
   "cell_type": "code",
   "execution_count": 29,
   "id": "192b925e",
   "metadata": {},
   "outputs": [
    {
     "name": "stderr",
     "output_type": "stream",
     "text": [
      "C:\\ProgramData\\Anaconda3\\lib\\site-packages\\seaborn\\distributions.py:2619: FutureWarning: `distplot` is a deprecated function and will be removed in a future version. Please adapt your code to use either `displot` (a figure-level function with similar flexibility) or `histplot` (an axes-level function for histograms).\n",
      "  warnings.warn(msg, FutureWarning)\n"
     ]
    },
    {
     "data": {
      "image/png": "[encoded data removed]",
      "text/plain": [
       "<Figure size 432x432 with 1 Axes>"
      ]
     },
     "metadata": {},
     "output_type": "display_data"
    }
   ],
   "source": [
    "sns.set()\n",
    "plt.figure(figsize=(6,6))\n",
    "sns.distplot(df['Fluoride (mg/L)'])\n",
    "plt.title('Fluoride (mg/L) Distribution')\n",
    "plt.show()"
   ]
  },
  {
   "cell_type": "markdown",
   "id": "b9240f28",
   "metadata": {},
   "source": [
    "### Since the plot is right skewed we are normalizing it using certain operations"
   ]
  },
  {
   "cell_type": "code",
   "execution_count": 30,
   "id": "d6b94695",
   "metadata": {},
   "outputs": [
    {
     "data": {
      "image/png": "[encoded data removed]",
      "text/plain": [
       "<Figure size 864x360 with 2 Axes>"
      ]
     },
     "metadata": {},
     "output_type": "display_data"
    },
    {
     "name": "stdout",
     "output_type": "stream",
     "text": [
      "Optimal lambda for Box-Cox transformation: 3.269676206992308\n"
     ]
    }
   ],
   "source": [
    "from scipy import stats\n",
    "\n",
    "transformed_data, lambda_value = stats.boxcox(df['Fluoride (mg/L)'])\n",
    "\n",
    "plt.figure(figsize=(12, 5))\n",
    "\n",
    "plt.subplot(1, 2, 1)\n",
    "plt.hist(df['Fluoride (mg/L)'], bins=30, color='red', alpha=0.7)\n",
    "plt.title('Right-Skewed Data')\n",
    "\n",
    "plt.subplot(1, 2, 2)\n",
    "plt.hist(transformed_data, bins=30, color='purple', alpha=0.7)\n",
    "plt.title('Box-Cox Transformed Data')\n",
    "\n",
    "plt.tight_layout()\n",
    "plt.show()\n",
    "\n",
    "print(f\"Optimal lambda for Box-Cox transformation: {lambda_value}\")\n",
    "\n",
    "\n",
    "df['Fluoride (mg/L)']=transformed_data"
   ]
  },
  {
   "cell_type": "markdown",
   "id": "e52f83ba",
   "metadata": {},
   "source": [
    "The above is the normalized graph plot of Flouride"
   ]
  },
  {
   "cell_type": "markdown",
   "id": "f30a3373",
   "metadata": {},
   "source": [
    "## Normalized plot of Flouride distribution"
   ]
  },
  {
   "cell_type": "code",
   "execution_count": 31,
   "id": "e2423a96",
   "metadata": {},
   "outputs": [
    {
     "name": "stderr",
     "output_type": "stream",
     "text": [
      "C:\\ProgramData\\Anaconda3\\lib\\site-packages\\seaborn\\distributions.py:2619: FutureWarning: `distplot` is a deprecated function and will be removed in a future version. Please adapt your code to use either `displot` (a figure-level function with similar flexibility) or `histplot` (an axes-level function for histograms).\n",
      "  warnings.warn(msg, FutureWarning)\n"
     ]
    },
    {
     "data": {
      "image/png": "[encoded data removed]",
      "text/plain": [
       "<Figure size 432x432 with 1 Axes>"
      ]
     },
     "metadata": {},
     "output_type": "display_data"
    }
   ],
   "source": [
    "sns.set()\n",
    "plt.figure(figsize=(6,6))\n",
    "sns.distplot(df['Fluoride (mg/L)'])\n",
    "plt.title('Fluoride (mg/L) Distribution')\n",
    "plt.show()"
   ]
  },
  {
   "cell_type": "code",
   "execution_count": 32,
   "id": "54f775d0",
   "metadata": {},
   "outputs": [
    {
     "name": "stdout",
     "output_type": "stream",
     "text": [
      "<class 'pandas.core.frame.DataFrame'>\n",
      "Int64Index: 8545 entries, 18 to 65502\n",
      "Data columns (total 10 columns):\n",
      " #   Column                               Non-Null Count  Dtype  \n",
      "---  ------                               --------------  -----  \n",
      " 0   Sample Number                        8545 non-null   int64  \n",
      " 1   Sample Date                          8545 non-null   object \n",
      " 2   Sample Time                          8545 non-null   object \n",
      " 3   Sample Site                          8545 non-null   object \n",
      " 4   Sample class                         8545 non-null   int32  \n",
      " 5   Residual Free Chlorine (mg/L)        8545 non-null   float64\n",
      " 6   Turbidity (NTU)                      8545 non-null   float64\n",
      " 7   Fluoride (mg/L)                      8545 non-null   float64\n",
      " 8   Coliform (Quanti-Tray) (MPN /100mL)  8545 non-null   float64\n",
      " 9   E.coli(Quanti-Tray) (MPN/100mL)      8545 non-null   float64\n",
      "dtypes: float64(5), int32(1), int64(1), object(3)\n",
      "memory usage: 701.0+ KB\n"
     ]
    }
   ],
   "source": [
    "df.info()"
   ]
  },
  {
   "cell_type": "markdown",
   "id": "ef5b89ea",
   "metadata": {},
   "source": [
    "#### Dropping the columns"
   ]
  },
  {
   "cell_type": "code",
   "execution_count": 33,
   "id": "2e7e9d11",
   "metadata": {},
   "outputs": [],
   "source": [
    "df.drop(columns=['Sample Date','Sample Time','Sample Site','Sample Number'],inplace=True)"
   ]
  },
  {
   "cell_type": "code",
   "execution_count": 34,
   "id": "f715470f",
   "metadata": {},
   "outputs": [
    {
     "data": {
      "text/html": [
       "<div>\n",
       "<style scoped>\n",
       "    .dataframe tbody tr th:only-of-type {\n",
       "        vertical-align: middle;\n",
       "    }\n",
       "\n",
       "    .dataframe tbody tr th {\n",
       "        vertical-align: top;\n",
       "    }\n",
       "\n",
       "    .dataframe thead th {\n",
       "        text-align: right;\n",
       "    }\n",
       "</style>\n",
       "<table border=\"1\" class=\"dataframe\">\n",
       "  <thead>\n",
       "    <tr style=\"text-align: right;\">\n",
       "      <th></th>\n",
       "      <th>Sample class</th>\n",
       "      <th>Residual Free Chlorine (mg/L)</th>\n",
       "      <th>Turbidity (NTU)</th>\n",
       "      <th>Fluoride (mg/L)</th>\n",
       "      <th>Coliform (Quanti-Tray) (MPN /100mL)</th>\n",
       "      <th>E.coli(Quanti-Tray) (MPN/100mL)</th>\n",
       "    </tr>\n",
       "  </thead>\n",
       "  <tbody>\n",
       "    <tr>\n",
       "      <th>18</th>\n",
       "      <td>1</td>\n",
       "      <td>0.72</td>\n",
       "      <td>-0.328504</td>\n",
       "      <td>-0.206034</td>\n",
       "      <td>1.0</td>\n",
       "      <td>1.0</td>\n",
       "    </tr>\n",
       "    <tr>\n",
       "      <th>19</th>\n",
       "      <td>1</td>\n",
       "      <td>0.92</td>\n",
       "      <td>-0.248461</td>\n",
       "      <td>-0.196544</td>\n",
       "      <td>1.0</td>\n",
       "      <td>1.0</td>\n",
       "    </tr>\n",
       "    <tr>\n",
       "      <th>20</th>\n",
       "      <td>1</td>\n",
       "      <td>0.72</td>\n",
       "      <td>-0.274437</td>\n",
       "      <td>-0.201364</td>\n",
       "      <td>11.1</td>\n",
       "      <td>1.0</td>\n",
       "    </tr>\n",
       "    <tr>\n",
       "      <th>21</th>\n",
       "      <td>1</td>\n",
       "      <td>0.64</td>\n",
       "      <td>-0.030459</td>\n",
       "      <td>-0.201364</td>\n",
       "      <td>1.0</td>\n",
       "      <td>1.0</td>\n",
       "    </tr>\n",
       "    <tr>\n",
       "      <th>22</th>\n",
       "      <td>1</td>\n",
       "      <td>0.81</td>\n",
       "      <td>-1.714798</td>\n",
       "      <td>-0.214936</td>\n",
       "      <td>1.0</td>\n",
       "      <td>1.0</td>\n",
       "    </tr>\n",
       "    <tr>\n",
       "      <th>...</th>\n",
       "      <td>...</td>\n",
       "      <td>...</td>\n",
       "      <td>...</td>\n",
       "      <td>...</td>\n",
       "      <td>...</td>\n",
       "      <td>...</td>\n",
       "    </tr>\n",
       "    <tr>\n",
       "      <th>65498</th>\n",
       "      <td>1</td>\n",
       "      <td>0.58</td>\n",
       "      <td>-0.051293</td>\n",
       "      <td>-0.186446</td>\n",
       "      <td>1.0</td>\n",
       "      <td>1.0</td>\n",
       "    </tr>\n",
       "    <tr>\n",
       "      <th>65499</th>\n",
       "      <td>1</td>\n",
       "      <td>0.85</td>\n",
       "      <td>-0.020203</td>\n",
       "      <td>-0.191572</td>\n",
       "      <td>1.0</td>\n",
       "      <td>1.0</td>\n",
       "    </tr>\n",
       "    <tr>\n",
       "      <th>65500</th>\n",
       "      <td>1</td>\n",
       "      <td>0.70</td>\n",
       "      <td>-0.105361</td>\n",
       "      <td>-0.186446</td>\n",
       "      <td>1.0</td>\n",
       "      <td>1.0</td>\n",
       "    </tr>\n",
       "    <tr>\n",
       "      <th>65501</th>\n",
       "      <td>1</td>\n",
       "      <td>0.76</td>\n",
       "      <td>0.039221</td>\n",
       "      <td>-0.186446</td>\n",
       "      <td>1.0</td>\n",
       "      <td>1.0</td>\n",
       "    </tr>\n",
       "    <tr>\n",
       "      <th>65502</th>\n",
       "      <td>1</td>\n",
       "      <td>0.55</td>\n",
       "      <td>-0.162519</td>\n",
       "      <td>-0.186446</td>\n",
       "      <td>1.0</td>\n",
       "      <td>1.0</td>\n",
       "    </tr>\n",
       "  </tbody>\n",
       "</table>\n",
       "<p>8545 rows × 6 columns</p>\n",
       "</div>"
      ],
      "text/plain": [
       "       Sample class  Residual Free Chlorine (mg/L)  Turbidity (NTU)  \\\n",
       "18                1                           0.72        -0.328504   \n",
       "19                1                           0.92        -0.248461   \n",
       "20                1                           0.72        -0.274437   \n",
       "21                1                           0.64        -0.030459   \n",
       "22                1                           0.81        -1.714798   \n",
       "...             ...                            ...              ...   \n",
       "65498             1                           0.58        -0.051293   \n",
       "65499             1                           0.85        -0.020203   \n",
       "65500             1                           0.70        -0.105361   \n",
       "65501             1                           0.76         0.039221   \n",
       "65502             1                           0.55        -0.162519   \n",
       "\n",
       "       Fluoride (mg/L)  Coliform (Quanti-Tray) (MPN /100mL)  \\\n",
       "18           -0.206034                                  1.0   \n",
       "19           -0.196544                                  1.0   \n",
       "20           -0.201364                                 11.1   \n",
       "21           -0.201364                                  1.0   \n",
       "22           -0.214936                                  1.0   \n",
       "...                ...                                  ...   \n",
       "65498        -0.186446                                  1.0   \n",
       "65499        -0.191572                                  1.0   \n",
       "65500        -0.186446                                  1.0   \n",
       "65501        -0.186446                                  1.0   \n",
       "65502        -0.186446                                  1.0   \n",
       "\n",
       "       E.coli(Quanti-Tray) (MPN/100mL)  \n",
       "18                                 1.0  \n",
       "19                                 1.0  \n",
       "20                                 1.0  \n",
       "21                                 1.0  \n",
       "22                                 1.0  \n",
       "...                                ...  \n",
       "65498                              1.0  \n",
       "65499                              1.0  \n",
       "65500                              1.0  \n",
       "65501                              1.0  \n",
       "65502                              1.0  \n",
       "\n",
       "[8545 rows x 6 columns]"
      ]
     },
     "execution_count": 34,
     "metadata": {},
     "output_type": "execute_result"
    }
   ],
   "source": [
    "df"
   ]
  },
  {
   "cell_type": "code",
   "execution_count": 35,
   "id": "17cf4bab",
   "metadata": {},
   "outputs": [
    {
     "data": {
      "text/plain": [
       "1    7572\n",
       "0     971\n",
       "2       2\n",
       "Name: Sample class, dtype: int64"
      ]
     },
     "execution_count": 35,
     "metadata": {},
     "output_type": "execute_result"
    }
   ],
   "source": [
    "df['Sample class'].value_counts()"
   ]
  },
  {
   "cell_type": "code",
   "execution_count": 36,
   "id": "6c72a650",
   "metadata": {},
   "outputs": [],
   "source": [
    "df.rename(columns={'Sample class': 'Sample_class'}, inplace=True)"
   ]
  },
  {
   "cell_type": "markdown",
   "id": "b1e46e42",
   "metadata": {},
   "source": [
    "Since the number of rows containging Smaple class 2 is too less compared to the others , we are dropping the rows containing sample class 2"
   ]
  },
  {
   "cell_type": "code",
   "execution_count": 37,
   "id": "11e32eb5",
   "metadata": {},
   "outputs": [],
   "source": [
    "df = df[~(df['Sample_class'] == 2)]"
   ]
  },
  {
   "cell_type": "code",
   "execution_count": 38,
   "id": "8b478404",
   "metadata": {},
   "outputs": [
    {
     "data": {
      "text/plain": [
       "1    7572\n",
       "0     971\n",
       "Name: Sample_class, dtype: int64"
      ]
     },
     "execution_count": 38,
     "metadata": {},
     "output_type": "execute_result"
    }
   ],
   "source": [
    "df['Sample_class'].value_counts()"
   ]
  },
  {
   "cell_type": "markdown",
   "id": "13c7fbf8",
   "metadata": {},
   "source": [
    "### Separating the two classes"
   ]
  },
  {
   "cell_type": "code",
   "execution_count": 39,
   "id": "fb31c0ab",
   "metadata": {},
   "outputs": [],
   "source": [
    "oper=df[df.Sample_class==1]\n",
    "compl=df[df.Sample_class==0]"
   ]
  },
  {
   "cell_type": "code",
   "execution_count": 40,
   "id": "c4a0dd7f",
   "metadata": {},
   "outputs": [
    {
     "data": {
      "text/plain": [
       "(7572, 6)"
      ]
     },
     "execution_count": 40,
     "metadata": {},
     "output_type": "execute_result"
    }
   ],
   "source": [
    "oper.shape"
   ]
  },
  {
   "cell_type": "code",
   "execution_count": 41,
   "id": "0a60023a",
   "metadata": {},
   "outputs": [
    {
     "data": {
      "text/plain": [
       "(971, 6)"
      ]
     },
     "execution_count": 41,
     "metadata": {},
     "output_type": "execute_result"
    }
   ],
   "source": [
    "compl.shape"
   ]
  },
  {
   "cell_type": "markdown",
   "id": "996fa456",
   "metadata": {},
   "source": [
    "### Performing undersampling"
   ]
  },
  {
   "cell_type": "code",
   "execution_count": 42,
   "id": "a2c457af",
   "metadata": {},
   "outputs": [],
   "source": [
    "oper_sample = oper.sample(n=971)"
   ]
  },
  {
   "cell_type": "markdown",
   "id": "7bee4f39",
   "metadata": {},
   "source": [
    "Concatination (creating a new dataset from the existing one )"
   ]
  },
  {
   "cell_type": "code",
   "execution_count": 43,
   "id": "670ea475",
   "metadata": {},
   "outputs": [],
   "source": [
    "new_ds=pd.concat([oper_sample,compl],axis=0)"
   ]
  },
  {
   "cell_type": "code",
   "execution_count": 44,
   "id": "9d4646b4",
   "metadata": {},
   "outputs": [
    {
     "data": {
      "text/plain": [
       "(1942, 6)"
      ]
     },
     "execution_count": 44,
     "metadata": {},
     "output_type": "execute_result"
    }
   ],
   "source": [
    "new_ds.shape"
   ]
  },
  {
   "cell_type": "code",
   "execution_count": 45,
   "id": "326f851e",
   "metadata": {},
   "outputs": [
    {
     "data": {
      "text/plain": [
       "1    971\n",
       "0    971\n",
       "Name: Sample_class, dtype: int64"
      ]
     },
     "execution_count": 45,
     "metadata": {},
     "output_type": "execute_result"
    }
   ],
   "source": [
    "new_ds['Sample_class'].value_counts()"
   ]
  },
  {
   "cell_type": "code",
   "execution_count": 46,
   "id": "f1e5ef94",
   "metadata": {
    "scrolled": true
   },
   "outputs": [
    {
     "data": {
      "text/html": [
       "<div>\n",
       "<style scoped>\n",
       "    .dataframe tbody tr th:only-of-type {\n",
       "        vertical-align: middle;\n",
       "    }\n",
       "\n",
       "    .dataframe tbody tr th {\n",
       "        vertical-align: top;\n",
       "    }\n",
       "\n",
       "    .dataframe thead th {\n",
       "        text-align: right;\n",
       "    }\n",
       "</style>\n",
       "<table border=\"1\" class=\"dataframe\">\n",
       "  <thead>\n",
       "    <tr style=\"text-align: right;\">\n",
       "      <th></th>\n",
       "      <th>Sample_class</th>\n",
       "      <th>Residual Free Chlorine (mg/L)</th>\n",
       "      <th>Turbidity (NTU)</th>\n",
       "      <th>Fluoride (mg/L)</th>\n",
       "      <th>Coliform (Quanti-Tray) (MPN /100mL)</th>\n",
       "      <th>E.coli(Quanti-Tray) (MPN/100mL)</th>\n",
       "    </tr>\n",
       "  </thead>\n",
       "  <tbody>\n",
       "    <tr>\n",
       "      <th>4015</th>\n",
       "      <td>1</td>\n",
       "      <td>0.88</td>\n",
       "      <td>-1.832581</td>\n",
       "      <td>-0.219174</td>\n",
       "      <td>1.0</td>\n",
       "      <td>1.0</td>\n",
       "    </tr>\n",
       "    <tr>\n",
       "      <th>43826</th>\n",
       "      <td>1</td>\n",
       "      <td>0.86</td>\n",
       "      <td>-0.494296</td>\n",
       "      <td>-0.201364</td>\n",
       "      <td>1.0</td>\n",
       "      <td>1.0</td>\n",
       "    </tr>\n",
       "    <tr>\n",
       "      <th>17116</th>\n",
       "      <td>1</td>\n",
       "      <td>0.54</td>\n",
       "      <td>-0.150823</td>\n",
       "      <td>-0.164337</td>\n",
       "      <td>1.0</td>\n",
       "      <td>1.0</td>\n",
       "    </tr>\n",
       "    <tr>\n",
       "      <th>66</th>\n",
       "      <td>1</td>\n",
       "      <td>0.96</td>\n",
       "      <td>-0.400478</td>\n",
       "      <td>-0.196544</td>\n",
       "      <td>1.0</td>\n",
       "      <td>1.0</td>\n",
       "    </tr>\n",
       "    <tr>\n",
       "      <th>61441</th>\n",
       "      <td>1</td>\n",
       "      <td>0.83</td>\n",
       "      <td>-0.162519</td>\n",
       "      <td>-0.201364</td>\n",
       "      <td>1.0</td>\n",
       "      <td>1.0</td>\n",
       "    </tr>\n",
       "  </tbody>\n",
       "</table>\n",
       "</div>"
      ],
      "text/plain": [
       "       Sample_class  Residual Free Chlorine (mg/L)  Turbidity (NTU)  \\\n",
       "4015              1                           0.88        -1.832581   \n",
       "43826             1                           0.86        -0.494296   \n",
       "17116             1                           0.54        -0.150823   \n",
       "66                1                           0.96        -0.400478   \n",
       "61441             1                           0.83        -0.162519   \n",
       "\n",
       "       Fluoride (mg/L)  Coliform (Quanti-Tray) (MPN /100mL)  \\\n",
       "4015         -0.219174                                  1.0   \n",
       "43826        -0.201364                                  1.0   \n",
       "17116        -0.164337                                  1.0   \n",
       "66           -0.196544                                  1.0   \n",
       "61441        -0.201364                                  1.0   \n",
       "\n",
       "       E.coli(Quanti-Tray) (MPN/100mL)  \n",
       "4015                               1.0  \n",
       "43826                              1.0  \n",
       "17116                              1.0  \n",
       "66                                 1.0  \n",
       "61441                              1.0  "
      ]
     },
     "execution_count": 46,
     "metadata": {},
     "output_type": "execute_result"
    }
   ],
   "source": [
    "new_ds.head()"
   ]
  },
  {
   "cell_type": "markdown",
   "id": "2f9af149",
   "metadata": {},
   "source": [
    "Now we have classes that have equal number of values. We are good to go"
   ]
  },
  {
   "cell_type": "code",
   "execution_count": 47,
   "id": "cbd9b59d",
   "metadata": {},
   "outputs": [
    {
     "data": {
      "text/html": [
       "<div>\n",
       "<style scoped>\n",
       "    .dataframe tbody tr th:only-of-type {\n",
       "        vertical-align: middle;\n",
       "    }\n",
       "\n",
       "    .dataframe tbody tr th {\n",
       "        vertical-align: top;\n",
       "    }\n",
       "\n",
       "    .dataframe thead th {\n",
       "        text-align: right;\n",
       "    }\n",
       "</style>\n",
       "<table border=\"1\" class=\"dataframe\">\n",
       "  <thead>\n",
       "    <tr style=\"text-align: right;\">\n",
       "      <th></th>\n",
       "      <th>Sample_class</th>\n",
       "      <th>Residual Free Chlorine (mg/L)</th>\n",
       "      <th>Turbidity (NTU)</th>\n",
       "      <th>Fluoride (mg/L)</th>\n",
       "      <th>Coliform (Quanti-Tray) (MPN /100mL)</th>\n",
       "      <th>E.coli(Quanti-Tray) (MPN/100mL)</th>\n",
       "    </tr>\n",
       "  </thead>\n",
       "  <tbody>\n",
       "    <tr>\n",
       "      <th>count</th>\n",
       "      <td>1942.000000</td>\n",
       "      <td>1942.000000</td>\n",
       "      <td>1942.000000</td>\n",
       "      <td>1942.000000</td>\n",
       "      <td>1942.000000</td>\n",
       "      <td>1942.0</td>\n",
       "    </tr>\n",
       "    <tr>\n",
       "      <th>mean</th>\n",
       "      <td>0.500000</td>\n",
       "      <td>0.615021</td>\n",
       "      <td>-0.405841</td>\n",
       "      <td>-0.204448</td>\n",
       "      <td>1.040834</td>\n",
       "      <td>1.0</td>\n",
       "    </tr>\n",
       "    <tr>\n",
       "      <th>std</th>\n",
       "      <td>0.500129</td>\n",
       "      <td>0.231560</td>\n",
       "      <td>0.531682</td>\n",
       "      <td>0.024250</td>\n",
       "      <td>1.286872</td>\n",
       "      <td>0.0</td>\n",
       "    </tr>\n",
       "    <tr>\n",
       "      <th>min</th>\n",
       "      <td>0.000000</td>\n",
       "      <td>0.010000</td>\n",
       "      <td>-2.302585</td>\n",
       "      <td>-0.305824</td>\n",
       "      <td>1.000000</td>\n",
       "      <td>1.0</td>\n",
       "    </tr>\n",
       "    <tr>\n",
       "      <th>25%</th>\n",
       "      <td>0.000000</td>\n",
       "      <td>0.460000</td>\n",
       "      <td>-0.478036</td>\n",
       "      <td>-0.219174</td>\n",
       "      <td>1.000000</td>\n",
       "      <td>1.0</td>\n",
       "    </tr>\n",
       "    <tr>\n",
       "      <th>50%</th>\n",
       "      <td>0.500000</td>\n",
       "      <td>0.640000</td>\n",
       "      <td>-0.274437</td>\n",
       "      <td>-0.210558</td>\n",
       "      <td>1.000000</td>\n",
       "      <td>1.0</td>\n",
       "    </tr>\n",
       "    <tr>\n",
       "      <th>75%</th>\n",
       "      <td>1.000000</td>\n",
       "      <td>0.780000</td>\n",
       "      <td>-0.116534</td>\n",
       "      <td>-0.196544</td>\n",
       "      <td>1.000000</td>\n",
       "      <td>1.0</td>\n",
       "    </tr>\n",
       "    <tr>\n",
       "      <th>max</th>\n",
       "      <td>1.000000</td>\n",
       "      <td>1.800000</td>\n",
       "      <td>0.996949</td>\n",
       "      <td>-0.126070</td>\n",
       "      <td>50.400000</td>\n",
       "      <td>1.0</td>\n",
       "    </tr>\n",
       "  </tbody>\n",
       "</table>\n",
       "</div>"
      ],
      "text/plain": [
       "       Sample_class  Residual Free Chlorine (mg/L)  Turbidity (NTU)  \\\n",
       "count   1942.000000                    1942.000000      1942.000000   \n",
       "mean       0.500000                       0.615021        -0.405841   \n",
       "std        0.500129                       0.231560         0.531682   \n",
       "min        0.000000                       0.010000        -2.302585   \n",
       "25%        0.000000                       0.460000        -0.478036   \n",
       "50%        0.500000                       0.640000        -0.274437   \n",
       "75%        1.000000                       0.780000        -0.116534   \n",
       "max        1.000000                       1.800000         0.996949   \n",
       "\n",
       "       Fluoride (mg/L)  Coliform (Quanti-Tray) (MPN /100mL)  \\\n",
       "count      1942.000000                          1942.000000   \n",
       "mean         -0.204448                             1.040834   \n",
       "std           0.024250                             1.286872   \n",
       "min          -0.305824                             1.000000   \n",
       "25%          -0.219174                             1.000000   \n",
       "50%          -0.210558                             1.000000   \n",
       "75%          -0.196544                             1.000000   \n",
       "max          -0.126070                            50.400000   \n",
       "\n",
       "       E.coli(Quanti-Tray) (MPN/100mL)  \n",
       "count                           1942.0  \n",
       "mean                               1.0  \n",
       "std                                0.0  \n",
       "min                                1.0  \n",
       "25%                                1.0  \n",
       "50%                                1.0  \n",
       "75%                                1.0  \n",
       "max                                1.0  "
      ]
     },
     "execution_count": 47,
     "metadata": {},
     "output_type": "execute_result"
    }
   ],
   "source": [
    "new_ds.describe()"
   ]
  },
  {
   "cell_type": "markdown",
   "id": "22337570",
   "metadata": {},
   "source": [
    "## Splitting the Dataset into x and y"
   ]
  },
  {
   "cell_type": "code",
   "execution_count": 48,
   "id": "569b29c2",
   "metadata": {},
   "outputs": [],
   "source": [
    "x=new_ds.drop(columns=['Sample_class'],axis=1)\n",
    "y=new_ds['Sample_class']"
   ]
  },
  {
   "cell_type": "markdown",
   "id": "1806fe6e",
   "metadata": {},
   "source": [
    "# Classification Algorithms"
   ]
  },
  {
   "cell_type": "markdown",
   "id": "4e9acf61",
   "metadata": {},
   "source": [
    "## Random forest Classifier"
   ]
  },
  {
   "cell_type": "code",
   "execution_count": 49,
   "id": "63d24d51",
   "metadata": {},
   "outputs": [
    {
     "name": "stdout",
     "output_type": "stream",
     "text": [
      "Accuracy: 0.84\n",
      "Confusion Matrix:\n",
      "[[148  45]\n",
      " [ 19 177]]\n",
      "Classification Report:\n",
      "              precision    recall  f1-score   support\n",
      "\n",
      "           0       0.89      0.77      0.82       193\n",
      "           1       0.80      0.90      0.85       196\n",
      "\n",
      "    accuracy                           0.84       389\n",
      "   macro avg       0.84      0.83      0.83       389\n",
      "weighted avg       0.84      0.84      0.83       389\n",
      "\n"
     ]
    }
   ],
   "source": [
    "from sklearn.preprocessing import StandardScaler\n",
    "from sklearn.ensemble import RandomForestClassifier\n",
    "from sklearn.model_selection import train_test_split\n",
    "from sklearn.metrics import accuracy_score, classification_report, confusion_matrix\n",
    "\n",
    "X_train, X_test, y_train, y_test = train_test_split(x, y, test_size=0.2, random_state=42)\n",
    "\n",
    "scaler = StandardScaler()\n",
    "X_train = scaler.fit_transform(X_train)\n",
    "X_test = scaler.transform(X_test)\n",
    "\n",
    "classifier = RandomForestClassifier(n_estimators=100, random_state=42)\n",
    "\n",
    "classifier.fit(X_train, y_train)\n",
    "\n",
    "y_pred = classifier.predict(X_test)\n",
    "\n",
    "accuracy = accuracy_score(y_test, y_pred)\n",
    "conf_matrix = confusion_matrix(y_test, y_pred)\n",
    "class_report = classification_report(y_test, y_pred)\n",
    "\n",
    "print(f'Accuracy: {accuracy:.2f}')\n",
    "print(f'Confusion Matrix:\\n{conf_matrix}')\n",
    "print(f'Classification Report:\\n{class_report}')"
   ]
  },
  {
   "cell_type": "markdown",
   "id": "63f6247e",
   "metadata": {},
   "source": [
    "## SVM"
   ]
  },
  {
   "cell_type": "code",
   "execution_count": 50,
   "id": "862e73c2",
   "metadata": {},
   "outputs": [
    {
     "name": "stdout",
     "output_type": "stream",
     "text": [
      "Accuracy: 0.84\n",
      "Confusion Matrix:\n",
      "[[151  42]\n",
      " [ 21 175]]\n",
      "Classification Report:\n",
      "              precision    recall  f1-score   support\n",
      "\n",
      "           0       0.88      0.78      0.83       193\n",
      "           1       0.81      0.89      0.85       196\n",
      "\n",
      "    accuracy                           0.84       389\n",
      "   macro avg       0.84      0.84      0.84       389\n",
      "weighted avg       0.84      0.84      0.84       389\n",
      "\n"
     ]
    }
   ],
   "source": [
    "from sklearn import svm\n",
    "from sklearn.model_selection import train_test_split\n",
    "from sklearn.metrics import accuracy_score, classification_report, confusion_matrix\n",
    "\n",
    "X_train, X_test, y_train, y_test = train_test_split(x, y, test_size=0.2, random_state=42)\n",
    "\n",
    "clf = svm.SVC(kernel='linear', C=1.0)\n",
    "\n",
    "clf.fit(X_train, y_train)\n",
    "\n",
    "y_pred = clf.predict(X_test)\n",
    "\n",
    "accuracy = accuracy_score(y_test, y_pred)\n",
    "print(f'Accuracy: {accuracy:.2f}')\n",
    "\n",
    "conf_matrix = confusion_matrix(y_test, y_pred)\n",
    "print(f'Confusion Matrix:\\n{conf_matrix}')\n",
    "\n",
    "class_report = classification_report(y_test, y_pred)\n",
    "print(f'Classification Report:\\n{class_report}')\n"
   ]
  },
  {
   "cell_type": "markdown",
   "id": "f61c6814",
   "metadata": {},
   "source": [
    "## KNN"
   ]
  },
  {
   "cell_type": "code",
   "execution_count": 51,
   "id": "cadb0897",
   "metadata": {},
   "outputs": [
    {
     "name": "stdout",
     "output_type": "stream",
     "text": [
      "Accuracy: 0.83\n",
      "Confusion Matrix:\n",
      "[[154  39]\n",
      " [ 28 168]]\n",
      "Classification Report:\n",
      "              precision    recall  f1-score   support\n",
      "\n",
      "           0       0.85      0.80      0.82       193\n",
      "           1       0.81      0.86      0.83       196\n",
      "\n",
      "    accuracy                           0.83       389\n",
      "   macro avg       0.83      0.83      0.83       389\n",
      "weighted avg       0.83      0.83      0.83       389\n",
      "\n"
     ]
    }
   ],
   "source": [
    "from sklearn.preprocessing import StandardScaler\n",
    "from sklearn.neighbors import KNeighborsClassifier\n",
    "from sklearn.metrics import accuracy_score, classification_report, confusion_matrix\n",
    "\n",
    "X_train, X_test, y_train, y_test = train_test_split(x, y, test_size=0.2, random_state=42)\n",
    "\n",
    "scaler = StandardScaler()\n",
    "X_train = scaler.fit_transform(X_train)\n",
    "X_test = scaler.transform(X_test)\n",
    "\n",
    "classifier = KNeighborsClassifier(n_neighbors=3)\n",
    "\n",
    "classifier.fit(X_train, y_train)\n",
    "\n",
    "y_pred = classifier.predict(X_test)\n",
    "\n",
    "accuracy = accuracy_score(y_test, y_pred)\n",
    "conf_matrix = confusion_matrix(y_test, y_pred)\n",
    "class_report = classification_report(y_test, y_pred)\n",
    "\n",
    "print(f'Accuracy: {accuracy:.2f}')\n",
    "print(f'Confusion Matrix:\\n{conf_matrix}')\n",
    "print(f'Classification Report:\\n{class_report}')\n"
   ]
  },
  {
   "cell_type": "markdown",
   "id": "566a964e",
   "metadata": {},
   "source": [
    "## Decision Tree Classifier"
   ]
  },
  {
   "cell_type": "code",
   "execution_count": 52,
   "id": "63b4f7cc",
   "metadata": {},
   "outputs": [
    {
     "name": "stdout",
     "output_type": "stream",
     "text": [
      "Accuracy: 0.78\n",
      "Confusion Matrix:\n",
      "[[237  63]\n",
      " [ 64 219]]\n",
      "Classification Report:\n",
      "              precision    recall  f1-score   support\n",
      "\n",
      "           0       0.79      0.79      0.79       300\n",
      "           1       0.78      0.77      0.78       283\n",
      "\n",
      "    accuracy                           0.78       583\n",
      "   macro avg       0.78      0.78      0.78       583\n",
      "weighted avg       0.78      0.78      0.78       583\n",
      "\n"
     ]
    }
   ],
   "source": [
    "from sklearn.model_selection import train_test_split\n",
    "from sklearn.tree import DecisionTreeClassifier\n",
    "from sklearn.metrics import accuracy_score\n",
    "\n",
    "X_train, X_test, y_train, y_test = train_test_split(x, y, test_size=0.3, random_state=42)\n",
    "\n",
    "clf = DecisionTreeClassifier()\n",
    "\n",
    "clf.fit(X_train, y_train)\n",
    "\n",
    "y_pred = clf.predict(X_test)\n",
    "\n",
    "accuracy = accuracy_score(y_test, y_pred)\n",
    "conf_matrix = confusion_matrix(y_test, y_pred)\n",
    "class_report = classification_report(y_test, y_pred)\n",
    "\n",
    "print(f'Accuracy: {accuracy:.2f}')\n",
    "print(f'Confusion Matrix:\\n{conf_matrix}')\n",
    "print(f'Classification Report:\\n{class_report}')\n",
    "\n"
   ]
  },
  {
   "cell_type": "markdown",
   "id": "7ec852c6",
   "metadata": {},
   "source": [
    "Since classification algorithms gave the highest accuracy we will choose SVM classifier."
   ]
  },
  {
   "cell_type": "code",
   "execution_count": null,
   "id": "5e9a498b",
   "metadata": {},
   "outputs": [],
   "source": []
  }
 ],
 "metadata": {
  "kernelspec": {
   "display_name": "Python 3 (ipykernel)",
   "language": "python",
   "name": "python3"
  },
  "language_info": {
   "codemirror_mode": {
    "name": "ipython",
    "version": 3
   },
   "file_extension": ".py",
   "mimetype": "text/x-python",
   "name": "python",
   "nbconvert_exporter": "python",
   "pygments_lexer": "ipython3",
   "version": "3.9.12"
  }
 },
 "nbformat": 4,
 "nbformat_minor": 5
}
